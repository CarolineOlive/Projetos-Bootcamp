{
  "nbformat": 4,
  "nbformat_minor": 0,
  "metadata": {
    "colab": {
      "name": "Caroline_Oliveira_Projeto_Módulo_02.ipynb",
      "provenance": [],
      "collapsed_sections": [
        "57le5wJLm5w-"
      ],
      "toc_visible": true,
      "mount_file_id": "1-DDIHeclaA3pdP4aPEnKtHxXVulzXlTJ",
      "authorship_tag": "ABX9TyPe8LAXrFynRkrJcXmwQ2uo",
      "include_colab_link": true
    },
    "kernelspec": {
      "display_name": "Python 3",
      "name": "python3"
    }
  },
  "cells": [
    {
      "cell_type": "markdown",
      "metadata": {
        "id": "view-in-github",
        "colab_type": "text"
      },
      "source": [
        "<a href=\"https://colab.research.google.com/github/CarolineOlive/Projetos-Bootcamp/blob/master/Caroline_Oliveira_Projeto_M%C3%B3dulo_02.ipynb\" target=\"_parent\"><img src=\"https://colab.research.google.com/assets/colab-badge.svg\" alt=\"Open In Colab\"/></a>"
      ]
    },
    {
      "cell_type": "markdown",
      "metadata": {
        "id": "5srbGm_WjUJI"
      },
      "source": [
        "# Projeto Módulo 2 - Cobertura Vacinal \n",
        "Dados fonte: TABNET - DATASUS \n",
        "\n",
        "**Bootcamp Data Science 2021 - Alura**\n",
        "\n",
        "\n",
        "\n",
        "---\n",
        "\n",
        "\n",
        "Autora: Caroline Silva de Oliveira\n",
        "\n",
        "E-mail: karolsilvaoliveira@yahoo.com.br\n",
        "\n",
        "LinkedIn:  www.linkedin.com/in/caroline-oliveira-quim\n",
        "\n",
        "\n",
        "\n",
        "\n"
      ]
    },
    {
      "cell_type": "markdown",
      "metadata": {
        "id": "P6SRlGl9EWGW"
      },
      "source": [
        "![Design sem nome (10).png](data:image/png;base64,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)"
      ]
    },
    {
      "cell_type": "markdown",
      "metadata": {
        "id": "0chjTuUNH6Ln"
      },
      "source": [
        "## Contextualiazação\n",
        "O termo **cobertura vacinal** refere-se ao percentual da população que está vacinada. Quanto mais pessoas receberem determinada vacina, maior será a cobertura vacinal. \n",
        "\n",
        "O Brasil é um país que tem um Programa Nacional de Imunizações (PNI) reconhecido internacionalmente. No entanto, vive um contexto de queda no percentual de cobertura vacinal ao longo dos anos, ou seja, aumenta a parcela da população sem vacinação adequada [1]. A meta de cobertura vacinal determinada pela OMS é de 95% e é preocupante e tem chamado a atenção das autorizadades de saúde [2]"
      ]
    },
    {
      "cell_type": "markdown",
      "metadata": {
        "id": "7EyyAiERNJDt"
      },
      "source": [
        "## Sobre os dados utilizados\n",
        "\n",
        "**Coberturas vacinais por Imuno e Ano - 2000-2019**\n",
        "\n",
        "Imuno: BCG, Hepatite B, Poliomielite, Febre Amarela, Hepatite A, Tríplice Viral D1\n",
        "* Fonte: TABNET-DATASUS - Ministério da Saúde\n",
        "* Disponível em: <http://tabnet.datasus.gov.br/cgi/dhdat.exe?bd_pni/cpnibr.def> Acesso em: 09/02/2021\n",
        "\n",
        "**Coberturas vacinais por Unidade da Federação e Ano - 2014-2019**\n",
        "\n",
        "Imuno: Hepatite A\n",
        "* Fonte: TABNET-DATASUS - Ministério da Saúde\n",
        "* Disponível em: <http://tabnet.datasus.gov.br/cgi/dhdat.exe?bd_pni/cpnibr.def> Acesso em: 09/02/2021\n",
        "\n",
        "**Número de casos por Unidade da Federação e Ano**\n",
        "\n",
        "Imuno: Hepatite A\n",
        "\n",
        "* Fonte: Indicadores e Dados Básicos das Hepatites nos Municípios Brasileiros\n",
        "* Disponível em: <http://indicadoreshepatites.aids.gov.br/> Acesso em: 10/02/2021\n",
        "\n",
        "A base de dados do governo dispõe de informações sobre o número de casos de hepatite A e a taxa de incidência num período de 1999 a 2019. Os dados são disponibilizados separadamente por UF, sendo assim, foi necessário fazer uma compilação dos dados em um único banco de dados."
      ]
    },
    {
      "cell_type": "code",
      "metadata": {
        "id": "vMkedl-6g_bP"
      },
      "source": [
        "import pandas as pd\n",
        "\n",
        "#importanto bibliotecas\n",
        "import matplotlib.pyplot as plt\n",
        "import matplotlib.ticker as ticker\n",
        "import numpy as np\n",
        "import seaborn as sns"
      ],
      "execution_count": 57,
      "outputs": []
    },
    {
      "cell_type": "markdown",
      "metadata": {
        "id": "B2bQ1A_2VRl9"
      },
      "source": [
        "##**Coberturas Vacinais - Imunos**\n",
        "\n",
        "**Imuno:** BCG, Hepatite B, Poliomielite, Febre Amarela, Hepatite A, Tríplice Viral D1\n",
        "\n",
        "**Período:** 2000-2019\n",
        "\n",
        "\n"
      ]
    },
    {
      "cell_type": "code",
      "metadata": {
        "colab": {
          "base_uri": "https://localhost:8080/",
          "height": 204
        },
        "id": "v6X1zBrsjcVy",
        "outputId": "712adb59-151e-4f47-ab33-f4b29fc6dc2c"
      },
      "source": [
        "# Importando o banco de dados de cobertura vacinal por ano segundo Imunos selecionados\n",
        "dados_vacina_imuno = pd.read_csv('/content/drive/MyDrive/Bootcamp Data Science/Módulo 2/Projeto 2/A130647189_28_143_208_CV_IMUNOS_BR.csv', encoding=\"ISO-8859-1\", na_values='-',\n",
        "                    skiprows = 4, skipfooter=20, sep=\";\", thousands=\".\", decimal=\",\", engine='python')\n",
        "dados_vacina_imuno.head()"
      ],
      "execution_count": 58,
      "outputs": [
        {
          "output_type": "execute_result",
          "data": {
            "text/html": [
              "<div>\n",
              "<style scoped>\n",
              "    .dataframe tbody tr th:only-of-type {\n",
              "        vertical-align: middle;\n",
              "    }\n",
              "\n",
              "    .dataframe tbody tr th {\n",
              "        vertical-align: top;\n",
              "    }\n",
              "\n",
              "    .dataframe thead th {\n",
              "        text-align: right;\n",
              "    }\n",
              "</style>\n",
              "<table border=\"1\" class=\"dataframe\">\n",
              "  <thead>\n",
              "    <tr style=\"text-align: right;\">\n",
              "      <th></th>\n",
              "      <th>Imuno</th>\n",
              "      <th>2000</th>\n",
              "      <th>2001</th>\n",
              "      <th>2002</th>\n",
              "      <th>2003</th>\n",
              "      <th>2004</th>\n",
              "      <th>2005</th>\n",
              "      <th>2006</th>\n",
              "      <th>2007</th>\n",
              "      <th>2008</th>\n",
              "      <th>2009</th>\n",
              "      <th>2010</th>\n",
              "      <th>2011</th>\n",
              "      <th>2012</th>\n",
              "      <th>2013</th>\n",
              "      <th>2014</th>\n",
              "      <th>2015</th>\n",
              "      <th>2016</th>\n",
              "      <th>2017</th>\n",
              "      <th>2018</th>\n",
              "      <th>2019</th>\n",
              "      <th>Total</th>\n",
              "    </tr>\n",
              "  </thead>\n",
              "  <tbody>\n",
              "    <tr>\n",
              "      <th>0</th>\n",
              "      <td>072 BCG</td>\n",
              "      <td>111.74</td>\n",
              "      <td>112.60</td>\n",
              "      <td>110.28</td>\n",
              "      <td>108.47</td>\n",
              "      <td>113.36</td>\n",
              "      <td>114.48</td>\n",
              "      <td>113.06</td>\n",
              "      <td>111.08</td>\n",
              "      <td>108.91</td>\n",
              "      <td>108.71</td>\n",
              "      <td>106.71</td>\n",
              "      <td>107.94</td>\n",
              "      <td>105.69</td>\n",
              "      <td>107.42</td>\n",
              "      <td>107.28</td>\n",
              "      <td>105.08</td>\n",
              "      <td>95.55</td>\n",
              "      <td>97.12</td>\n",
              "      <td>97.72</td>\n",
              "      <td>52.95</td>\n",
              "      <td>104.96</td>\n",
              "    </tr>\n",
              "    <tr>\n",
              "      <th>1</th>\n",
              "      <td>073 Hepatite B</td>\n",
              "      <td>91.08</td>\n",
              "      <td>91.88</td>\n",
              "      <td>91.47</td>\n",
              "      <td>92.00</td>\n",
              "      <td>96.26</td>\n",
              "      <td>98.46</td>\n",
              "      <td>100.30</td>\n",
              "      <td>99.89</td>\n",
              "      <td>96.06</td>\n",
              "      <td>100.20</td>\n",
              "      <td>96.08</td>\n",
              "      <td>97.71</td>\n",
              "      <td>96.67</td>\n",
              "      <td>100.56</td>\n",
              "      <td>96.42</td>\n",
              "      <td>97.74</td>\n",
              "      <td>105.19</td>\n",
              "      <td>86.29</td>\n",
              "      <td>92.91</td>\n",
              "      <td>55.93</td>\n",
              "      <td>94.10</td>\n",
              "    </tr>\n",
              "    <tr>\n",
              "      <th>2</th>\n",
              "      <td>074 Poliomielite</td>\n",
              "      <td>101.44</td>\n",
              "      <td>102.83</td>\n",
              "      <td>100.01</td>\n",
              "      <td>100.48</td>\n",
              "      <td>104.30</td>\n",
              "      <td>105.12</td>\n",
              "      <td>105.25</td>\n",
              "      <td>105.43</td>\n",
              "      <td>100.18</td>\n",
              "      <td>103.66</td>\n",
              "      <td>99.35</td>\n",
              "      <td>101.33</td>\n",
              "      <td>96.55</td>\n",
              "      <td>100.71</td>\n",
              "      <td>96.76</td>\n",
              "      <td>98.29</td>\n",
              "      <td>84.43</td>\n",
              "      <td>84.27</td>\n",
              "      <td>88.17</td>\n",
              "      <td>51.54</td>\n",
              "      <td>96.61</td>\n",
              "    </tr>\n",
              "    <tr>\n",
              "      <th>3</th>\n",
              "      <td>006 Febre Amarela</td>\n",
              "      <td>37.14</td>\n",
              "      <td>40.24</td>\n",
              "      <td>38.70</td>\n",
              "      <td>34.68</td>\n",
              "      <td>38.29</td>\n",
              "      <td>42.95</td>\n",
              "      <td>46.17</td>\n",
              "      <td>49.23</td>\n",
              "      <td>47.09</td>\n",
              "      <td>49.69</td>\n",
              "      <td>49.25</td>\n",
              "      <td>48.95</td>\n",
              "      <td>49.31</td>\n",
              "      <td>51.50</td>\n",
              "      <td>46.86</td>\n",
              "      <td>46.31</td>\n",
              "      <td>44.59</td>\n",
              "      <td>46.46</td>\n",
              "      <td>58.40</td>\n",
              "      <td>39.91</td>\n",
              "      <td>45.06</td>\n",
              "    </tr>\n",
              "    <tr>\n",
              "      <th>4</th>\n",
              "      <td>096 Hepatite A</td>\n",
              "      <td>nan</td>\n",
              "      <td>nan</td>\n",
              "      <td>nan</td>\n",
              "      <td>nan</td>\n",
              "      <td>nan</td>\n",
              "      <td>nan</td>\n",
              "      <td>nan</td>\n",
              "      <td>nan</td>\n",
              "      <td>nan</td>\n",
              "      <td>nan</td>\n",
              "      <td>nan</td>\n",
              "      <td>nan</td>\n",
              "      <td>nan</td>\n",
              "      <td>nan</td>\n",
              "      <td>60.13</td>\n",
              "      <td>97.07</td>\n",
              "      <td>71.58</td>\n",
              "      <td>83.05</td>\n",
              "      <td>82.16</td>\n",
              "      <td>52.09</td>\n",
              "      <td>63.73</td>\n",
              "    </tr>\n",
              "  </tbody>\n",
              "</table>\n",
              "</div>"
            ],
            "text/plain": [
              "               Imuno   2000   2001   2002  ...  2017  2018  2019  Total\n",
              "0            072 BCG 111.74 112.60 110.28  ... 97.12 97.72 52.95 104.96\n",
              "1     073 Hepatite B  91.08  91.88  91.47  ... 86.29 92.91 55.93  94.10\n",
              "2   074 Poliomielite 101.44 102.83 100.01  ... 84.27 88.17 51.54  96.61\n",
              "3  006 Febre Amarela  37.14  40.24  38.70  ... 46.46 58.40 39.91  45.06\n",
              "4     096 Hepatite A    nan    nan    nan  ... 83.05 82.16 52.09  63.73\n",
              "\n",
              "[5 rows x 22 columns]"
            ]
          },
          "metadata": {
            "tags": []
          },
          "execution_count": 58
        }
      ]
    },
    {
      "cell_type": "code",
      "metadata": {
        "colab": {
          "base_uri": "https://localhost:8080/",
          "height": 204
        },
        "id": "pPGwDoUvksS0",
        "outputId": "5c5bf916-2bf1-43c3-ac5d-83746eea1f7c"
      },
      "source": [
        "dados_vacina_imuno.tail()"
      ],
      "execution_count": 59,
      "outputs": [
        {
          "output_type": "execute_result",
          "data": {
            "text/html": [
              "<div>\n",
              "<style scoped>\n",
              "    .dataframe tbody tr th:only-of-type {\n",
              "        vertical-align: middle;\n",
              "    }\n",
              "\n",
              "    .dataframe tbody tr th {\n",
              "        vertical-align: top;\n",
              "    }\n",
              "\n",
              "    .dataframe thead th {\n",
              "        text-align: right;\n",
              "    }\n",
              "</style>\n",
              "<table border=\"1\" class=\"dataframe\">\n",
              "  <thead>\n",
              "    <tr style=\"text-align: right;\">\n",
              "      <th></th>\n",
              "      <th>Imuno</th>\n",
              "      <th>2000</th>\n",
              "      <th>2001</th>\n",
              "      <th>2002</th>\n",
              "      <th>2003</th>\n",
              "      <th>2004</th>\n",
              "      <th>2005</th>\n",
              "      <th>2006</th>\n",
              "      <th>2007</th>\n",
              "      <th>2008</th>\n",
              "      <th>2009</th>\n",
              "      <th>2010</th>\n",
              "      <th>2011</th>\n",
              "      <th>2012</th>\n",
              "      <th>2013</th>\n",
              "      <th>2014</th>\n",
              "      <th>2015</th>\n",
              "      <th>2016</th>\n",
              "      <th>2017</th>\n",
              "      <th>2018</th>\n",
              "      <th>2019</th>\n",
              "      <th>Total</th>\n",
              "    </tr>\n",
              "  </thead>\n",
              "  <tbody>\n",
              "    <tr>\n",
              "      <th>1</th>\n",
              "      <td>073 Hepatite B</td>\n",
              "      <td>91.08</td>\n",
              "      <td>91.88</td>\n",
              "      <td>91.47</td>\n",
              "      <td>92.00</td>\n",
              "      <td>96.26</td>\n",
              "      <td>98.46</td>\n",
              "      <td>100.30</td>\n",
              "      <td>99.89</td>\n",
              "      <td>96.06</td>\n",
              "      <td>100.20</td>\n",
              "      <td>96.08</td>\n",
              "      <td>97.71</td>\n",
              "      <td>96.67</td>\n",
              "      <td>100.56</td>\n",
              "      <td>96.42</td>\n",
              "      <td>97.74</td>\n",
              "      <td>105.19</td>\n",
              "      <td>86.29</td>\n",
              "      <td>92.91</td>\n",
              "      <td>55.93</td>\n",
              "      <td>94.10</td>\n",
              "    </tr>\n",
              "    <tr>\n",
              "      <th>2</th>\n",
              "      <td>074 Poliomielite</td>\n",
              "      <td>101.44</td>\n",
              "      <td>102.83</td>\n",
              "      <td>100.01</td>\n",
              "      <td>100.48</td>\n",
              "      <td>104.30</td>\n",
              "      <td>105.12</td>\n",
              "      <td>105.25</td>\n",
              "      <td>105.43</td>\n",
              "      <td>100.18</td>\n",
              "      <td>103.66</td>\n",
              "      <td>99.35</td>\n",
              "      <td>101.33</td>\n",
              "      <td>96.55</td>\n",
              "      <td>100.71</td>\n",
              "      <td>96.76</td>\n",
              "      <td>98.29</td>\n",
              "      <td>84.43</td>\n",
              "      <td>84.27</td>\n",
              "      <td>88.17</td>\n",
              "      <td>51.54</td>\n",
              "      <td>96.61</td>\n",
              "    </tr>\n",
              "    <tr>\n",
              "      <th>3</th>\n",
              "      <td>006 Febre Amarela</td>\n",
              "      <td>37.14</td>\n",
              "      <td>40.24</td>\n",
              "      <td>38.70</td>\n",
              "      <td>34.68</td>\n",
              "      <td>38.29</td>\n",
              "      <td>42.95</td>\n",
              "      <td>46.17</td>\n",
              "      <td>49.23</td>\n",
              "      <td>47.09</td>\n",
              "      <td>49.69</td>\n",
              "      <td>49.25</td>\n",
              "      <td>48.95</td>\n",
              "      <td>49.31</td>\n",
              "      <td>51.50</td>\n",
              "      <td>46.86</td>\n",
              "      <td>46.31</td>\n",
              "      <td>44.59</td>\n",
              "      <td>46.46</td>\n",
              "      <td>58.40</td>\n",
              "      <td>39.91</td>\n",
              "      <td>45.06</td>\n",
              "    </tr>\n",
              "    <tr>\n",
              "      <th>4</th>\n",
              "      <td>096 Hepatite A</td>\n",
              "      <td>nan</td>\n",
              "      <td>nan</td>\n",
              "      <td>nan</td>\n",
              "      <td>nan</td>\n",
              "      <td>nan</td>\n",
              "      <td>nan</td>\n",
              "      <td>nan</td>\n",
              "      <td>nan</td>\n",
              "      <td>nan</td>\n",
              "      <td>nan</td>\n",
              "      <td>nan</td>\n",
              "      <td>nan</td>\n",
              "      <td>nan</td>\n",
              "      <td>nan</td>\n",
              "      <td>60.13</td>\n",
              "      <td>97.07</td>\n",
              "      <td>71.58</td>\n",
              "      <td>83.05</td>\n",
              "      <td>82.16</td>\n",
              "      <td>52.09</td>\n",
              "      <td>63.73</td>\n",
              "    </tr>\n",
              "    <tr>\n",
              "      <th>5</th>\n",
              "      <td>021 Tríplice Viral  D1</td>\n",
              "      <td>77.50</td>\n",
              "      <td>88.43</td>\n",
              "      <td>96.92</td>\n",
              "      <td>112.95</td>\n",
              "      <td>110.93</td>\n",
              "      <td>106.55</td>\n",
              "      <td>105.35</td>\n",
              "      <td>106.80</td>\n",
              "      <td>99.81</td>\n",
              "      <td>103.74</td>\n",
              "      <td>99.93</td>\n",
              "      <td>102.39</td>\n",
              "      <td>99.50</td>\n",
              "      <td>107.46</td>\n",
              "      <td>112.80</td>\n",
              "      <td>96.07</td>\n",
              "      <td>95.41</td>\n",
              "      <td>90.85</td>\n",
              "      <td>91.89</td>\n",
              "      <td>57.19</td>\n",
              "      <td>97.99</td>\n",
              "    </tr>\n",
              "  </tbody>\n",
              "</table>\n",
              "</div>"
            ],
            "text/plain": [
              "                    Imuno   2000   2001   2002  ...  2017  2018  2019  Total\n",
              "1          073 Hepatite B  91.08  91.88  91.47  ... 86.29 92.91 55.93  94.10\n",
              "2        074 Poliomielite 101.44 102.83 100.01  ... 84.27 88.17 51.54  96.61\n",
              "3       006 Febre Amarela  37.14  40.24  38.70  ... 46.46 58.40 39.91  45.06\n",
              "4          096 Hepatite A    nan    nan    nan  ... 83.05 82.16 52.09  63.73\n",
              "5  021 Tríplice Viral  D1  77.50  88.43  96.92  ... 90.85 91.89 57.19  97.99\n",
              "\n",
              "[5 rows x 22 columns]"
            ]
          },
          "metadata": {
            "tags": []
          },
          "execution_count": 59
        }
      ]
    },
    {
      "cell_type": "code",
      "metadata": {
        "colab": {
          "base_uri": "https://localhost:8080/",
          "height": 235
        },
        "id": "aBzmkBmFkW4A",
        "outputId": "ee92edd8-8fee-47e2-af9b-a7f8583c28c9"
      },
      "source": [
        "#Transformando a coluna 'Imuno' em indice\n",
        "dados_vacina_imuno = dados_vacina_imuno.set_index(\"Imuno\")\n",
        "dados_vacina_imuno.head()"
      ],
      "execution_count": 60,
      "outputs": [
        {
          "output_type": "execute_result",
          "data": {
            "text/html": [
              "<div>\n",
              "<style scoped>\n",
              "    .dataframe tbody tr th:only-of-type {\n",
              "        vertical-align: middle;\n",
              "    }\n",
              "\n",
              "    .dataframe tbody tr th {\n",
              "        vertical-align: top;\n",
              "    }\n",
              "\n",
              "    .dataframe thead th {\n",
              "        text-align: right;\n",
              "    }\n",
              "</style>\n",
              "<table border=\"1\" class=\"dataframe\">\n",
              "  <thead>\n",
              "    <tr style=\"text-align: right;\">\n",
              "      <th></th>\n",
              "      <th>2000</th>\n",
              "      <th>2001</th>\n",
              "      <th>2002</th>\n",
              "      <th>2003</th>\n",
              "      <th>2004</th>\n",
              "      <th>2005</th>\n",
              "      <th>2006</th>\n",
              "      <th>2007</th>\n",
              "      <th>2008</th>\n",
              "      <th>2009</th>\n",
              "      <th>2010</th>\n",
              "      <th>2011</th>\n",
              "      <th>2012</th>\n",
              "      <th>2013</th>\n",
              "      <th>2014</th>\n",
              "      <th>2015</th>\n",
              "      <th>2016</th>\n",
              "      <th>2017</th>\n",
              "      <th>2018</th>\n",
              "      <th>2019</th>\n",
              "      <th>Total</th>\n",
              "    </tr>\n",
              "    <tr>\n",
              "      <th>Imuno</th>\n",
              "      <th></th>\n",
              "      <th></th>\n",
              "      <th></th>\n",
              "      <th></th>\n",
              "      <th></th>\n",
              "      <th></th>\n",
              "      <th></th>\n",
              "      <th></th>\n",
              "      <th></th>\n",
              "      <th></th>\n",
              "      <th></th>\n",
              "      <th></th>\n",
              "      <th></th>\n",
              "      <th></th>\n",
              "      <th></th>\n",
              "      <th></th>\n",
              "      <th></th>\n",
              "      <th></th>\n",
              "      <th></th>\n",
              "      <th></th>\n",
              "      <th></th>\n",
              "    </tr>\n",
              "  </thead>\n",
              "  <tbody>\n",
              "    <tr>\n",
              "      <th>072 BCG</th>\n",
              "      <td>111.74</td>\n",
              "      <td>112.60</td>\n",
              "      <td>110.28</td>\n",
              "      <td>108.47</td>\n",
              "      <td>113.36</td>\n",
              "      <td>114.48</td>\n",
              "      <td>113.06</td>\n",
              "      <td>111.08</td>\n",
              "      <td>108.91</td>\n",
              "      <td>108.71</td>\n",
              "      <td>106.71</td>\n",
              "      <td>107.94</td>\n",
              "      <td>105.69</td>\n",
              "      <td>107.42</td>\n",
              "      <td>107.28</td>\n",
              "      <td>105.08</td>\n",
              "      <td>95.55</td>\n",
              "      <td>97.12</td>\n",
              "      <td>97.72</td>\n",
              "      <td>52.95</td>\n",
              "      <td>104.96</td>\n",
              "    </tr>\n",
              "    <tr>\n",
              "      <th>073 Hepatite B</th>\n",
              "      <td>91.08</td>\n",
              "      <td>91.88</td>\n",
              "      <td>91.47</td>\n",
              "      <td>92.00</td>\n",
              "      <td>96.26</td>\n",
              "      <td>98.46</td>\n",
              "      <td>100.30</td>\n",
              "      <td>99.89</td>\n",
              "      <td>96.06</td>\n",
              "      <td>100.20</td>\n",
              "      <td>96.08</td>\n",
              "      <td>97.71</td>\n",
              "      <td>96.67</td>\n",
              "      <td>100.56</td>\n",
              "      <td>96.42</td>\n",
              "      <td>97.74</td>\n",
              "      <td>105.19</td>\n",
              "      <td>86.29</td>\n",
              "      <td>92.91</td>\n",
              "      <td>55.93</td>\n",
              "      <td>94.10</td>\n",
              "    </tr>\n",
              "    <tr>\n",
              "      <th>074 Poliomielite</th>\n",
              "      <td>101.44</td>\n",
              "      <td>102.83</td>\n",
              "      <td>100.01</td>\n",
              "      <td>100.48</td>\n",
              "      <td>104.30</td>\n",
              "      <td>105.12</td>\n",
              "      <td>105.25</td>\n",
              "      <td>105.43</td>\n",
              "      <td>100.18</td>\n",
              "      <td>103.66</td>\n",
              "      <td>99.35</td>\n",
              "      <td>101.33</td>\n",
              "      <td>96.55</td>\n",
              "      <td>100.71</td>\n",
              "      <td>96.76</td>\n",
              "      <td>98.29</td>\n",
              "      <td>84.43</td>\n",
              "      <td>84.27</td>\n",
              "      <td>88.17</td>\n",
              "      <td>51.54</td>\n",
              "      <td>96.61</td>\n",
              "    </tr>\n",
              "    <tr>\n",
              "      <th>006 Febre Amarela</th>\n",
              "      <td>37.14</td>\n",
              "      <td>40.24</td>\n",
              "      <td>38.70</td>\n",
              "      <td>34.68</td>\n",
              "      <td>38.29</td>\n",
              "      <td>42.95</td>\n",
              "      <td>46.17</td>\n",
              "      <td>49.23</td>\n",
              "      <td>47.09</td>\n",
              "      <td>49.69</td>\n",
              "      <td>49.25</td>\n",
              "      <td>48.95</td>\n",
              "      <td>49.31</td>\n",
              "      <td>51.50</td>\n",
              "      <td>46.86</td>\n",
              "      <td>46.31</td>\n",
              "      <td>44.59</td>\n",
              "      <td>46.46</td>\n",
              "      <td>58.40</td>\n",
              "      <td>39.91</td>\n",
              "      <td>45.06</td>\n",
              "    </tr>\n",
              "    <tr>\n",
              "      <th>096 Hepatite A</th>\n",
              "      <td>nan</td>\n",
              "      <td>nan</td>\n",
              "      <td>nan</td>\n",
              "      <td>nan</td>\n",
              "      <td>nan</td>\n",
              "      <td>nan</td>\n",
              "      <td>nan</td>\n",
              "      <td>nan</td>\n",
              "      <td>nan</td>\n",
              "      <td>nan</td>\n",
              "      <td>nan</td>\n",
              "      <td>nan</td>\n",
              "      <td>nan</td>\n",
              "      <td>nan</td>\n",
              "      <td>60.13</td>\n",
              "      <td>97.07</td>\n",
              "      <td>71.58</td>\n",
              "      <td>83.05</td>\n",
              "      <td>82.16</td>\n",
              "      <td>52.09</td>\n",
              "      <td>63.73</td>\n",
              "    </tr>\n",
              "  </tbody>\n",
              "</table>\n",
              "</div>"
            ],
            "text/plain": [
              "                    2000   2001   2002   2003  ...  2017  2018  2019  Total\n",
              "Imuno                                          ...                         \n",
              "072 BCG           111.74 112.60 110.28 108.47  ... 97.12 97.72 52.95 104.96\n",
              "073 Hepatite B     91.08  91.88  91.47  92.00  ... 86.29 92.91 55.93  94.10\n",
              "074 Poliomielite  101.44 102.83 100.01 100.48  ... 84.27 88.17 51.54  96.61\n",
              "006 Febre Amarela  37.14  40.24  38.70  34.68  ... 46.46 58.40 39.91  45.06\n",
              "096 Hepatite A       nan    nan    nan    nan  ... 83.05 82.16 52.09  63.73\n",
              "\n",
              "[5 rows x 21 columns]"
            ]
          },
          "metadata": {
            "tags": []
          },
          "execution_count": 60
        }
      ]
    },
    {
      "cell_type": "markdown",
      "metadata": {
        "id": "XEDKv9ausQZJ"
      },
      "source": [
        "A fim de garantir a correta comparação entre os imunos, optei por selecionar os dados de 2014 a 2019, anos que comtemplam dados de todos os imunos selecionados."
      ]
    },
    {
      "cell_type": "code",
      "metadata": {
        "colab": {
          "base_uri": "https://localhost:8080/",
          "height": 235
        },
        "id": "S48zTZOnYqlu",
        "outputId": "5eb3230f-cae2-4b03-de67-68de7728c710"
      },
      "source": [
        "#Selecionando apenas os dados de 2014 a 2019\n",
        "dados_vacina_imuno_selc = dados_vacina_imuno[[\"2014\", \"2015\", \"2016\", \"2017\", \"2018\", \"2019\"]]\n",
        "dados_vacina_imuno_selc.head()"
      ],
      "execution_count": 61,
      "outputs": [
        {
          "output_type": "execute_result",
          "data": {
            "text/html": [
              "<div>\n",
              "<style scoped>\n",
              "    .dataframe tbody tr th:only-of-type {\n",
              "        vertical-align: middle;\n",
              "    }\n",
              "\n",
              "    .dataframe tbody tr th {\n",
              "        vertical-align: top;\n",
              "    }\n",
              "\n",
              "    .dataframe thead th {\n",
              "        text-align: right;\n",
              "    }\n",
              "</style>\n",
              "<table border=\"1\" class=\"dataframe\">\n",
              "  <thead>\n",
              "    <tr style=\"text-align: right;\">\n",
              "      <th></th>\n",
              "      <th>2014</th>\n",
              "      <th>2015</th>\n",
              "      <th>2016</th>\n",
              "      <th>2017</th>\n",
              "      <th>2018</th>\n",
              "      <th>2019</th>\n",
              "    </tr>\n",
              "    <tr>\n",
              "      <th>Imuno</th>\n",
              "      <th></th>\n",
              "      <th></th>\n",
              "      <th></th>\n",
              "      <th></th>\n",
              "      <th></th>\n",
              "      <th></th>\n",
              "    </tr>\n",
              "  </thead>\n",
              "  <tbody>\n",
              "    <tr>\n",
              "      <th>072 BCG</th>\n",
              "      <td>107.28</td>\n",
              "      <td>105.08</td>\n",
              "      <td>95.55</td>\n",
              "      <td>97.12</td>\n",
              "      <td>97.72</td>\n",
              "      <td>52.95</td>\n",
              "    </tr>\n",
              "    <tr>\n",
              "      <th>073 Hepatite B</th>\n",
              "      <td>96.42</td>\n",
              "      <td>97.74</td>\n",
              "      <td>105.19</td>\n",
              "      <td>86.29</td>\n",
              "      <td>92.91</td>\n",
              "      <td>55.93</td>\n",
              "    </tr>\n",
              "    <tr>\n",
              "      <th>074 Poliomielite</th>\n",
              "      <td>96.76</td>\n",
              "      <td>98.29</td>\n",
              "      <td>84.43</td>\n",
              "      <td>84.27</td>\n",
              "      <td>88.17</td>\n",
              "      <td>51.54</td>\n",
              "    </tr>\n",
              "    <tr>\n",
              "      <th>006 Febre Amarela</th>\n",
              "      <td>46.86</td>\n",
              "      <td>46.31</td>\n",
              "      <td>44.59</td>\n",
              "      <td>46.46</td>\n",
              "      <td>58.40</td>\n",
              "      <td>39.91</td>\n",
              "    </tr>\n",
              "    <tr>\n",
              "      <th>096 Hepatite A</th>\n",
              "      <td>60.13</td>\n",
              "      <td>97.07</td>\n",
              "      <td>71.58</td>\n",
              "      <td>83.05</td>\n",
              "      <td>82.16</td>\n",
              "      <td>52.09</td>\n",
              "    </tr>\n",
              "  </tbody>\n",
              "</table>\n",
              "</div>"
            ],
            "text/plain": [
              "                    2014   2015   2016  2017  2018  2019\n",
              "Imuno                                                   \n",
              "072 BCG           107.28 105.08  95.55 97.12 97.72 52.95\n",
              "073 Hepatite B     96.42  97.74 105.19 86.29 92.91 55.93\n",
              "074 Poliomielite   96.76  98.29  84.43 84.27 88.17 51.54\n",
              "006 Febre Amarela  46.86  46.31  44.59 46.46 58.40 39.91\n",
              "096 Hepatite A     60.13  97.07  71.58 83.05 82.16 52.09"
            ]
          },
          "metadata": {
            "tags": []
          },
          "execution_count": 61
        }
      ]
    },
    {
      "cell_type": "code",
      "metadata": {
        "id": "i_EyPydVjKMr"
      },
      "source": [
        "#alterar a forma de mostrar os dados (2 casa após a vírgula)\n",
        "pd.options.display.float_format = \"{:.2f}\".format"
      ],
      "execution_count": 62,
      "outputs": []
    },
    {
      "cell_type": "markdown",
      "metadata": {
        "id": "x2kqepzLsv8K"
      },
      "source": [
        "### Cobertura Vacinal total"
      ]
    },
    {
      "cell_type": "code",
      "metadata": {
        "colab": {
          "base_uri": "https://localhost:8080/",
          "height": 337
        },
        "id": "TvBpuc0Xg-xD",
        "outputId": "5977c057-c8c8-45b7-ced6-22d34a155db9"
      },
      "source": [
        "#Criando uma nova coluna 'Total'\n",
        "dados_vacina_imuno_selc[\"Total\"] = dados_vacina_imuno_selc[[\"2014\", \"2015\", \"2016\", \"2017\", \"2018\", \"2019\"]].mean(1)\n",
        "dados_vacina_imuno_selc.head()"
      ],
      "execution_count": 63,
      "outputs": [
        {
          "output_type": "stream",
          "text": [
            "/usr/local/lib/python3.7/dist-packages/ipykernel_launcher.py:2: SettingWithCopyWarning: \n",
            "A value is trying to be set on a copy of a slice from a DataFrame.\n",
            "Try using .loc[row_indexer,col_indexer] = value instead\n",
            "\n",
            "See the caveats in the documentation: https://pandas.pydata.org/pandas-docs/stable/user_guide/indexing.html#returning-a-view-versus-a-copy\n",
            "  \n"
          ],
          "name": "stderr"
        },
        {
          "output_type": "execute_result",
          "data": {
            "text/html": [
              "<div>\n",
              "<style scoped>\n",
              "    .dataframe tbody tr th:only-of-type {\n",
              "        vertical-align: middle;\n",
              "    }\n",
              "\n",
              "    .dataframe tbody tr th {\n",
              "        vertical-align: top;\n",
              "    }\n",
              "\n",
              "    .dataframe thead th {\n",
              "        text-align: right;\n",
              "    }\n",
              "</style>\n",
              "<table border=\"1\" class=\"dataframe\">\n",
              "  <thead>\n",
              "    <tr style=\"text-align: right;\">\n",
              "      <th></th>\n",
              "      <th>2014</th>\n",
              "      <th>2015</th>\n",
              "      <th>2016</th>\n",
              "      <th>2017</th>\n",
              "      <th>2018</th>\n",
              "      <th>2019</th>\n",
              "      <th>Total</th>\n",
              "    </tr>\n",
              "    <tr>\n",
              "      <th>Imuno</th>\n",
              "      <th></th>\n",
              "      <th></th>\n",
              "      <th></th>\n",
              "      <th></th>\n",
              "      <th></th>\n",
              "      <th></th>\n",
              "      <th></th>\n",
              "    </tr>\n",
              "  </thead>\n",
              "  <tbody>\n",
              "    <tr>\n",
              "      <th>072 BCG</th>\n",
              "      <td>107.28</td>\n",
              "      <td>105.08</td>\n",
              "      <td>95.55</td>\n",
              "      <td>97.12</td>\n",
              "      <td>97.72</td>\n",
              "      <td>52.95</td>\n",
              "      <td>92.62</td>\n",
              "    </tr>\n",
              "    <tr>\n",
              "      <th>073 Hepatite B</th>\n",
              "      <td>96.42</td>\n",
              "      <td>97.74</td>\n",
              "      <td>105.19</td>\n",
              "      <td>86.29</td>\n",
              "      <td>92.91</td>\n",
              "      <td>55.93</td>\n",
              "      <td>89.08</td>\n",
              "    </tr>\n",
              "    <tr>\n",
              "      <th>074 Poliomielite</th>\n",
              "      <td>96.76</td>\n",
              "      <td>98.29</td>\n",
              "      <td>84.43</td>\n",
              "      <td>84.27</td>\n",
              "      <td>88.17</td>\n",
              "      <td>51.54</td>\n",
              "      <td>83.91</td>\n",
              "    </tr>\n",
              "    <tr>\n",
              "      <th>006 Febre Amarela</th>\n",
              "      <td>46.86</td>\n",
              "      <td>46.31</td>\n",
              "      <td>44.59</td>\n",
              "      <td>46.46</td>\n",
              "      <td>58.40</td>\n",
              "      <td>39.91</td>\n",
              "      <td>47.09</td>\n",
              "    </tr>\n",
              "    <tr>\n",
              "      <th>096 Hepatite A</th>\n",
              "      <td>60.13</td>\n",
              "      <td>97.07</td>\n",
              "      <td>71.58</td>\n",
              "      <td>83.05</td>\n",
              "      <td>82.16</td>\n",
              "      <td>52.09</td>\n",
              "      <td>74.35</td>\n",
              "    </tr>\n",
              "  </tbody>\n",
              "</table>\n",
              "</div>"
            ],
            "text/plain": [
              "                    2014   2015   2016  2017  2018  2019  Total\n",
              "Imuno                                                          \n",
              "072 BCG           107.28 105.08  95.55 97.12 97.72 52.95  92.62\n",
              "073 Hepatite B     96.42  97.74 105.19 86.29 92.91 55.93  89.08\n",
              "074 Poliomielite   96.76  98.29  84.43 84.27 88.17 51.54  83.91\n",
              "006 Febre Amarela  46.86  46.31  44.59 46.46 58.40 39.91  47.09\n",
              "096 Hepatite A     60.13  97.07  71.58 83.05 82.16 52.09  74.35"
            ]
          },
          "metadata": {
            "tags": []
          },
          "execution_count": 63
        }
      ]
    },
    {
      "cell_type": "code",
      "metadata": {
        "colab": {
          "base_uri": "https://localhost:8080/",
          "height": 413
        },
        "id": "-mjresjMNk5-",
        "outputId": "34f2c236-f8ee-437d-f052-bcd1d496f851"
      },
      "source": [
        "#ordenando os dados pelo total\n",
        "dados_vacina_imuno_selc = dados_vacina_imuno_selc.sort_values('Total', ascending = True)\n",
        "\n",
        "#criando a vizualização dos dados totais de cobertura vacinal dos imunos selecionados\n",
        "plt.figure(figsize=(8,6))\n",
        "ax = plt.barh(dados_vacina_imuno_selc.index, dados_vacina_imuno_selc[\"Total\"], height = 0.5, color = \"darkred\")\n",
        "\n",
        "plt.title(\"Dados de Cobertura Vacinal Total por Imuno\", fontsize = 16, fontweight = \"bold\") #título\n",
        "plt.xlabel(\"Cobertura Vacinal %\",fontsize = 14, fontweight = \"bold\") #título eixo x\n",
        "plt.ylabel(\"Imuno\",fontsize = 14, fontweight = \"bold\") #título eixo y\n",
        "\n",
        "plt.tick_params(axis=\"x\", labelsize=12) #modifica o tamanho do tick em x\n",
        "plt.tick_params(axis=\"y\", labelsize=12) #modifica o tamanho do tick em y\n",
        "\n",
        "plt.grid(True, color='maroon', alpha=0.5, linestyle='dashed', linewidth=0.5)\n",
        "\n",
        "plt.xlim(0,dados_vacina_imuno_selc[\"Total\"].max()*1.12) #aumentando o limite do eixo x para caber o valor de cada barra sem sobrepor o eixo\n",
        "\n",
        "#rotina para adicionar o número em frente cada barra\n",
        "for index, value in enumerate(dados_vacina_imuno_selc[\"Total\"].round(2)):\n",
        "  plt.text(value, index, str(value), color='black', fontweight=\"bold\", fontsize=12, verticalalignment='center')\n",
        "\n",
        "plt.show()"
      ],
      "execution_count": 64,
      "outputs": [
        {
          "output_type": "display_data",
          "data": {
            "image/png": "[encoded data removed]",
            "text/plain": [
              "<Figure size 576x432 with 1 Axes>"
            ]
          },
          "metadata": {
            "tags": [],
            "needs_background": "light"
          }
        }
      ]
    },
    {
      "cell_type": "markdown",
      "metadata": {
        "id": "XPN9R0zwVZtO"
      },
      "source": [
        "#### Observações:\n",
        "O gráfico mostra que de forma geral, todos os imunos apresentam cobertura vacinal abaixo de 95%, taxa recomendada pelo OMS. Hepatite A e Febre amarela são os imunos com menor taxa de cobertura vacinal, acendendo um alerta sobre possíveis problemas que vão desde a falta de acesso a vacina à falta de disponibilidade da mesma."
      ]
    },
    {
      "cell_type": "markdown",
      "metadata": {
        "id": "VzckRkhiowFg"
      },
      "source": [
        "####Manipulação dos dados"
      ]
    },
    {
      "cell_type": "code",
      "metadata": {
        "colab": {
          "base_uri": "https://localhost:8080/",
          "height": 266
        },
        "id": "vhfbe6suLsBe",
        "outputId": "bf5b4917-700a-492a-a1e7-be025b8362f8"
      },
      "source": [
        "#removendo os números contidos antes dos nomes dos imunos no indice\n",
        "dados_vacina_imuno_selc.index = dados_vacina_imuno_selc.index.str[3:]\n",
        "dados_vacina_imuno_selc"
      ],
      "execution_count": 65,
      "outputs": [
        {
          "output_type": "execute_result",
          "data": {
            "text/html": [
              "<div>\n",
              "<style scoped>\n",
              "    .dataframe tbody tr th:only-of-type {\n",
              "        vertical-align: middle;\n",
              "    }\n",
              "\n",
              "    .dataframe tbody tr th {\n",
              "        vertical-align: top;\n",
              "    }\n",
              "\n",
              "    .dataframe thead th {\n",
              "        text-align: right;\n",
              "    }\n",
              "</style>\n",
              "<table border=\"1\" class=\"dataframe\">\n",
              "  <thead>\n",
              "    <tr style=\"text-align: right;\">\n",
              "      <th></th>\n",
              "      <th>2014</th>\n",
              "      <th>2015</th>\n",
              "      <th>2016</th>\n",
              "      <th>2017</th>\n",
              "      <th>2018</th>\n",
              "      <th>2019</th>\n",
              "      <th>Total</th>\n",
              "    </tr>\n",
              "    <tr>\n",
              "      <th>Imuno</th>\n",
              "      <th></th>\n",
              "      <th></th>\n",
              "      <th></th>\n",
              "      <th></th>\n",
              "      <th></th>\n",
              "      <th></th>\n",
              "      <th></th>\n",
              "    </tr>\n",
              "  </thead>\n",
              "  <tbody>\n",
              "    <tr>\n",
              "      <th>Febre Amarela</th>\n",
              "      <td>46.86</td>\n",
              "      <td>46.31</td>\n",
              "      <td>44.59</td>\n",
              "      <td>46.46</td>\n",
              "      <td>58.40</td>\n",
              "      <td>39.91</td>\n",
              "      <td>47.09</td>\n",
              "    </tr>\n",
              "    <tr>\n",
              "      <th>Hepatite A</th>\n",
              "      <td>60.13</td>\n",
              "      <td>97.07</td>\n",
              "      <td>71.58</td>\n",
              "      <td>83.05</td>\n",
              "      <td>82.16</td>\n",
              "      <td>52.09</td>\n",
              "      <td>74.35</td>\n",
              "    </tr>\n",
              "    <tr>\n",
              "      <th>Poliomielite</th>\n",
              "      <td>96.76</td>\n",
              "      <td>98.29</td>\n",
              "      <td>84.43</td>\n",
              "      <td>84.27</td>\n",
              "      <td>88.17</td>\n",
              "      <td>51.54</td>\n",
              "      <td>83.91</td>\n",
              "    </tr>\n",
              "    <tr>\n",
              "      <th>Hepatite B</th>\n",
              "      <td>96.42</td>\n",
              "      <td>97.74</td>\n",
              "      <td>105.19</td>\n",
              "      <td>86.29</td>\n",
              "      <td>92.91</td>\n",
              "      <td>55.93</td>\n",
              "      <td>89.08</td>\n",
              "    </tr>\n",
              "    <tr>\n",
              "      <th>Tríplice Viral  D1</th>\n",
              "      <td>112.80</td>\n",
              "      <td>96.07</td>\n",
              "      <td>95.41</td>\n",
              "      <td>90.85</td>\n",
              "      <td>91.89</td>\n",
              "      <td>57.19</td>\n",
              "      <td>90.70</td>\n",
              "    </tr>\n",
              "    <tr>\n",
              "      <th>BCG</th>\n",
              "      <td>107.28</td>\n",
              "      <td>105.08</td>\n",
              "      <td>95.55</td>\n",
              "      <td>97.12</td>\n",
              "      <td>97.72</td>\n",
              "      <td>52.95</td>\n",
              "      <td>92.62</td>\n",
              "    </tr>\n",
              "  </tbody>\n",
              "</table>\n",
              "</div>"
            ],
            "text/plain": [
              "                      2014   2015   2016  2017  2018  2019  Total\n",
              "Imuno                                                            \n",
              " Febre Amarela       46.86  46.31  44.59 46.46 58.40 39.91  47.09\n",
              " Hepatite A          60.13  97.07  71.58 83.05 82.16 52.09  74.35\n",
              " Poliomielite        96.76  98.29  84.43 84.27 88.17 51.54  83.91\n",
              " Hepatite B          96.42  97.74 105.19 86.29 92.91 55.93  89.08\n",
              " Tríplice Viral  D1 112.80  96.07  95.41 90.85 91.89 57.19  90.70\n",
              " BCG                107.28 105.08  95.55 97.12 97.72 52.95  92.62"
            ]
          },
          "metadata": {
            "tags": []
          },
          "execution_count": 65
        }
      ]
    },
    {
      "cell_type": "code",
      "metadata": {
        "colab": {
          "base_uri": "https://localhost:8080/",
          "height": 35
        },
        "id": "IwpqbN9zMQhL",
        "outputId": "a53b67a1-070d-462d-9425-4eeb48a6b021"
      },
      "source": [
        "# verificando o indice usando a função .index pegando o primeiro valor do indice\n",
        "dados_vacina_imuno_selc.index[0]  "
      ],
      "execution_count": 66,
      "outputs": [
        {
          "output_type": "execute_result",
          "data": {
            "application/vnd.google.colaboratory.intrinsic+json": {
              "type": "string"
            },
            "text/plain": [
              "' Febre Amarela'"
            ]
          },
          "metadata": {
            "tags": []
          },
          "execution_count": 66
        }
      ]
    },
    {
      "cell_type": "code",
      "metadata": {
        "colab": {
          "base_uri": "https://localhost:8080/",
          "height": 266
        },
        "id": "QYeShMaFNN1L",
        "outputId": "143bc87b-bca7-4792-c182-b6957fe25f9d"
      },
      "source": [
        "#removendo o espaço que há antes do nome\n",
        "dados_vacina_imuno_selc.index = dados_vacina_imuno_selc.index.str.strip()\n",
        "dados_vacina_imuno_selc"
      ],
      "execution_count": 67,
      "outputs": [
        {
          "output_type": "execute_result",
          "data": {
            "text/html": [
              "<div>\n",
              "<style scoped>\n",
              "    .dataframe tbody tr th:only-of-type {\n",
              "        vertical-align: middle;\n",
              "    }\n",
              "\n",
              "    .dataframe tbody tr th {\n",
              "        vertical-align: top;\n",
              "    }\n",
              "\n",
              "    .dataframe thead th {\n",
              "        text-align: right;\n",
              "    }\n",
              "</style>\n",
              "<table border=\"1\" class=\"dataframe\">\n",
              "  <thead>\n",
              "    <tr style=\"text-align: right;\">\n",
              "      <th></th>\n",
              "      <th>2014</th>\n",
              "      <th>2015</th>\n",
              "      <th>2016</th>\n",
              "      <th>2017</th>\n",
              "      <th>2018</th>\n",
              "      <th>2019</th>\n",
              "      <th>Total</th>\n",
              "    </tr>\n",
              "    <tr>\n",
              "      <th>Imuno</th>\n",
              "      <th></th>\n",
              "      <th></th>\n",
              "      <th></th>\n",
              "      <th></th>\n",
              "      <th></th>\n",
              "      <th></th>\n",
              "      <th></th>\n",
              "    </tr>\n",
              "  </thead>\n",
              "  <tbody>\n",
              "    <tr>\n",
              "      <th>Febre Amarela</th>\n",
              "      <td>46.86</td>\n",
              "      <td>46.31</td>\n",
              "      <td>44.59</td>\n",
              "      <td>46.46</td>\n",
              "      <td>58.40</td>\n",
              "      <td>39.91</td>\n",
              "      <td>47.09</td>\n",
              "    </tr>\n",
              "    <tr>\n",
              "      <th>Hepatite A</th>\n",
              "      <td>60.13</td>\n",
              "      <td>97.07</td>\n",
              "      <td>71.58</td>\n",
              "      <td>83.05</td>\n",
              "      <td>82.16</td>\n",
              "      <td>52.09</td>\n",
              "      <td>74.35</td>\n",
              "    </tr>\n",
              "    <tr>\n",
              "      <th>Poliomielite</th>\n",
              "      <td>96.76</td>\n",
              "      <td>98.29</td>\n",
              "      <td>84.43</td>\n",
              "      <td>84.27</td>\n",
              "      <td>88.17</td>\n",
              "      <td>51.54</td>\n",
              "      <td>83.91</td>\n",
              "    </tr>\n",
              "    <tr>\n",
              "      <th>Hepatite B</th>\n",
              "      <td>96.42</td>\n",
              "      <td>97.74</td>\n",
              "      <td>105.19</td>\n",
              "      <td>86.29</td>\n",
              "      <td>92.91</td>\n",
              "      <td>55.93</td>\n",
              "      <td>89.08</td>\n",
              "    </tr>\n",
              "    <tr>\n",
              "      <th>Tríplice Viral  D1</th>\n",
              "      <td>112.80</td>\n",
              "      <td>96.07</td>\n",
              "      <td>95.41</td>\n",
              "      <td>90.85</td>\n",
              "      <td>91.89</td>\n",
              "      <td>57.19</td>\n",
              "      <td>90.70</td>\n",
              "    </tr>\n",
              "    <tr>\n",
              "      <th>BCG</th>\n",
              "      <td>107.28</td>\n",
              "      <td>105.08</td>\n",
              "      <td>95.55</td>\n",
              "      <td>97.12</td>\n",
              "      <td>97.72</td>\n",
              "      <td>52.95</td>\n",
              "      <td>92.62</td>\n",
              "    </tr>\n",
              "  </tbody>\n",
              "</table>\n",
              "</div>"
            ],
            "text/plain": [
              "                     2014   2015   2016  2017  2018  2019  Total\n",
              "Imuno                                                           \n",
              "Febre Amarela       46.86  46.31  44.59 46.46 58.40 39.91  47.09\n",
              "Hepatite A          60.13  97.07  71.58 83.05 82.16 52.09  74.35\n",
              "Poliomielite        96.76  98.29  84.43 84.27 88.17 51.54  83.91\n",
              "Hepatite B          96.42  97.74 105.19 86.29 92.91 55.93  89.08\n",
              "Tríplice Viral  D1 112.80  96.07  95.41 90.85 91.89 57.19  90.70\n",
              "BCG                107.28 105.08  95.55 97.12 97.72 52.95  92.62"
            ]
          },
          "metadata": {
            "tags": []
          },
          "execution_count": 67
        }
      ]
    },
    {
      "cell_type": "markdown",
      "metadata": {
        "id": "yZ5glGVEYcza"
      },
      "source": [
        "### Cobeturas Vacinais por Ano"
      ]
    },
    {
      "cell_type": "code",
      "metadata": {
        "colab": {
          "base_uri": "https://localhost:8080/",
          "height": 413
        },
        "id": "YzDW9yYPmZei",
        "outputId": "40b87bb5-35d5-4696-fc55-afe23a0ccbce"
      },
      "source": [
        "ax = dados_vacina_imuno_selc[[\"2014\", \"2015\", \"2016\", \"2017\", \"2018\", \"2019\"]].T.plot(figsize=(10,6), colormap = 'viridis', )\n",
        "\n",
        "plt.title(\"Cobertura vacinal por Ano segundo Imuno\", fontsize = 16) #Título figura\n",
        "plt.xlabel(\"Ano\",fontsize = 14, fontweight = \"bold\") #título eixo x\n",
        "plt.ylabel(\"Cobertura Vacinal %\",fontsize = 14, fontweight = \"bold\") #título eixo y\n",
        "\n",
        "plt.tick_params(axis=\"x\", labelsize=12) #modifica o tamanho do tick em x\n",
        "plt.tick_params(axis=\"y\", labelsize=12) #modifica o tamanho do tick em y\n",
        "\n",
        "plt.ylim(0,120)\n",
        "\n",
        "plt.legend(loc='center left', bbox_to_anchor=(1.0, 0.5))\n",
        "plt.axhline(95, linestyle=\"--\", color='red')\n",
        "\n",
        "\n",
        "plt.show()"
      ],
      "execution_count": 68,
      "outputs": [
        {
          "output_type": "display_data",
          "data": {
            "image/png": "[encoded data removed]",
            "text/plain": [
              "<Figure size 720x432 with 1 Axes>"
            ]
          },
          "metadata": {
            "tags": [],
            "needs_background": "light"
          }
        }
      ]
    },
    {
      "cell_type": "markdown",
      "metadata": {
        "id": "57le5wJLm5w-"
      },
      "source": [
        "#### Observações\n",
        "Observa-se que os imunos BCG, TRIPLICE VIRAL, HEPATITE B e POLIOMELITE apresentam perfis de cobertura vacinal (CV) acima de 95%, como recomendado pela OMS, até 2015. \n",
        "Após esse período, observa-se uma queda na CV da maioria dos imunos, mantendo apenas BCG dentro da faixa.\n",
        " \n",
        "* Febre amarela aprensenta a menor combertura vacinal (CV) dentre os imunos selecionados, apresentando um pequeno aumento com o passar dos anos, no entanto sem atingir valores muito maiores que o inicial.\n",
        "* Hepatite A, teve sua campanha de  imunização inciada em 2014, o que justifica o grande aumento da CV em 2015. No entanto, a taxa caiu consideravelmente nos anos seguintes, mantendo valores bem abaixo da meta.\n",
        "\n",
        "\n"
      ]
    },
    {
      "cell_type": "markdown",
      "metadata": {
        "id": "MfwyI4PhSj98"
      },
      "source": [
        "##Imuno: Hepatite A\n",
        "\n",
        "A vacinação contra hepatite A iniciou-se em 2014, como uma das ações do Ministério da Saúde contra Hepatites Virais. Neste ano, a cobertura vacinal foi de 60,13 [3].\n",
        "\n",
        "\n",
        "A hepatite A pode ser transmitida por contato direto entre as pessoas, pela água ou por alimentos contaminados, por mãos mal lavadas ou sujas de fezes e por objetos que contenham a presença do vírus [1].\n",
        "\n",
        "O crescente aumento do número de casos tem sido amplamente discutido e preocupado os orgãos de saúde [4, 5].\n",
        "\n",
        "Por ser uma vacina relativamente nova e haver uma discussão a respeito do aumento do número de casos, escolhi explorar um pouco mais os dados desse imuno.\n",
        "\n"
      ]
    },
    {
      "cell_type": "markdown",
      "metadata": {
        "id": "YbkzNDC-WycH"
      },
      "source": [
        "###Cobertura Vacinal"
      ]
    },
    {
      "cell_type": "code",
      "metadata": {
        "colab": {
          "base_uri": "https://localhost:8080/",
          "height": 204
        },
        "id": "VOMPwuXmTOWd",
        "outputId": "8df0266c-9cd4-4fe5-e9f0-c6afb9f9d394"
      },
      "source": [
        "# Importando o banco de dados de cobertura vacinal por ano segundo Unidade da Federação - imuno Hepatite A\n",
        "dados_vacina_hep_A = pd.read_csv('/content/drive/MyDrive/Bootcamp Data Science/Módulo 2/Projeto 2/A160201189_28_143_208_HEPA_CV_UF.csv', encoding=\"ISO-8859-1\", na_values='-',\n",
        "                    skiprows = 4, skipfooter=20, sep=\";\", thousands=\".\", decimal=\",\", engine='python')\n",
        "dados_vacina_hep_A.head()"
      ],
      "execution_count": 69,
      "outputs": [
        {
          "output_type": "execute_result",
          "data": {
            "text/html": [
              "<div>\n",
              "<style scoped>\n",
              "    .dataframe tbody tr th:only-of-type {\n",
              "        vertical-align: middle;\n",
              "    }\n",
              "\n",
              "    .dataframe tbody tr th {\n",
              "        vertical-align: top;\n",
              "    }\n",
              "\n",
              "    .dataframe thead th {\n",
              "        text-align: right;\n",
              "    }\n",
              "</style>\n",
              "<table border=\"1\" class=\"dataframe\">\n",
              "  <thead>\n",
              "    <tr style=\"text-align: right;\">\n",
              "      <th></th>\n",
              "      <th>Unidade da Federação</th>\n",
              "      <th>2014</th>\n",
              "      <th>2015</th>\n",
              "      <th>2016</th>\n",
              "      <th>2017</th>\n",
              "      <th>2018</th>\n",
              "      <th>2019</th>\n",
              "      <th>Total</th>\n",
              "    </tr>\n",
              "  </thead>\n",
              "  <tbody>\n",
              "    <tr>\n",
              "      <th>0</th>\n",
              "      <td>11 Rondônia</td>\n",
              "      <td>67.33</td>\n",
              "      <td>116.26</td>\n",
              "      <td>84.04</td>\n",
              "      <td>87.45</td>\n",
              "      <td>82.45</td>\n",
              "      <td>52.60</td>\n",
              "      <td>81.68</td>\n",
              "    </tr>\n",
              "    <tr>\n",
              "      <th>1</th>\n",
              "      <td>12 Acre</td>\n",
              "      <td>11.52</td>\n",
              "      <td>73.22</td>\n",
              "      <td>60.42</td>\n",
              "      <td>69.47</td>\n",
              "      <td>76.11</td>\n",
              "      <td>48.41</td>\n",
              "      <td>56.49</td>\n",
              "    </tr>\n",
              "    <tr>\n",
              "      <th>2</th>\n",
              "      <td>13 Amazonas</td>\n",
              "      <td>44.12</td>\n",
              "      <td>97.74</td>\n",
              "      <td>68.07</td>\n",
              "      <td>79.94</td>\n",
              "      <td>78.19</td>\n",
              "      <td>56.47</td>\n",
              "      <td>70.85</td>\n",
              "    </tr>\n",
              "    <tr>\n",
              "      <th>3</th>\n",
              "      <td>14 Roraima</td>\n",
              "      <td>52.93</td>\n",
              "      <td>98.21</td>\n",
              "      <td>72.93</td>\n",
              "      <td>90.29</td>\n",
              "      <td>90.46</td>\n",
              "      <td>52.67</td>\n",
              "      <td>76.10</td>\n",
              "    </tr>\n",
              "    <tr>\n",
              "      <th>4</th>\n",
              "      <td>15 Pará</td>\n",
              "      <td>24.11</td>\n",
              "      <td>73.83</td>\n",
              "      <td>55.85</td>\n",
              "      <td>67.50</td>\n",
              "      <td>66.50</td>\n",
              "      <td>41.59</td>\n",
              "      <td>54.99</td>\n",
              "    </tr>\n",
              "  </tbody>\n",
              "</table>\n",
              "</div>"
            ],
            "text/plain": [
              "  Unidade da Federação  2014   2015  2016  2017  2018  2019  Total\n",
              "0          11 Rondônia 67.33 116.26 84.04 87.45 82.45 52.60  81.68\n",
              "1              12 Acre 11.52  73.22 60.42 69.47 76.11 48.41  56.49\n",
              "2          13 Amazonas 44.12  97.74 68.07 79.94 78.19 56.47  70.85\n",
              "3           14 Roraima 52.93  98.21 72.93 90.29 90.46 52.67  76.10\n",
              "4              15 Pará 24.11  73.83 55.85 67.50 66.50 41.59  54.99"
            ]
          },
          "metadata": {
            "tags": []
          },
          "execution_count": 69
        }
      ]
    },
    {
      "cell_type": "code",
      "metadata": {
        "colab": {
          "base_uri": "https://localhost:8080/",
          "height": 235
        },
        "id": "FwKaZBkJHpXi",
        "outputId": "9df34031-df16-407c-c75c-d87fdca641ce"
      },
      "source": [
        "#Transformando a coluna 'Unidade da Federação' em indice\n",
        "dados_vacina_hep_A = dados_vacina_hep_A.set_index(\"Unidade da Federação\")\n",
        "dados_vacina_hep_A.head()"
      ],
      "execution_count": 70,
      "outputs": [
        {
          "output_type": "execute_result",
          "data": {
            "text/html": [
              "<div>\n",
              "<style scoped>\n",
              "    .dataframe tbody tr th:only-of-type {\n",
              "        vertical-align: middle;\n",
              "    }\n",
              "\n",
              "    .dataframe tbody tr th {\n",
              "        vertical-align: top;\n",
              "    }\n",
              "\n",
              "    .dataframe thead th {\n",
              "        text-align: right;\n",
              "    }\n",
              "</style>\n",
              "<table border=\"1\" class=\"dataframe\">\n",
              "  <thead>\n",
              "    <tr style=\"text-align: right;\">\n",
              "      <th></th>\n",
              "      <th>2014</th>\n",
              "      <th>2015</th>\n",
              "      <th>2016</th>\n",
              "      <th>2017</th>\n",
              "      <th>2018</th>\n",
              "      <th>2019</th>\n",
              "      <th>Total</th>\n",
              "    </tr>\n",
              "    <tr>\n",
              "      <th>Unidade da Federação</th>\n",
              "      <th></th>\n",
              "      <th></th>\n",
              "      <th></th>\n",
              "      <th></th>\n",
              "      <th></th>\n",
              "      <th></th>\n",
              "      <th></th>\n",
              "    </tr>\n",
              "  </thead>\n",
              "  <tbody>\n",
              "    <tr>\n",
              "      <th>11 Rondônia</th>\n",
              "      <td>67.33</td>\n",
              "      <td>116.26</td>\n",
              "      <td>84.04</td>\n",
              "      <td>87.45</td>\n",
              "      <td>82.45</td>\n",
              "      <td>52.60</td>\n",
              "      <td>81.68</td>\n",
              "    </tr>\n",
              "    <tr>\n",
              "      <th>12 Acre</th>\n",
              "      <td>11.52</td>\n",
              "      <td>73.22</td>\n",
              "      <td>60.42</td>\n",
              "      <td>69.47</td>\n",
              "      <td>76.11</td>\n",
              "      <td>48.41</td>\n",
              "      <td>56.49</td>\n",
              "    </tr>\n",
              "    <tr>\n",
              "      <th>13 Amazonas</th>\n",
              "      <td>44.12</td>\n",
              "      <td>97.74</td>\n",
              "      <td>68.07</td>\n",
              "      <td>79.94</td>\n",
              "      <td>78.19</td>\n",
              "      <td>56.47</td>\n",
              "      <td>70.85</td>\n",
              "    </tr>\n",
              "    <tr>\n",
              "      <th>14 Roraima</th>\n",
              "      <td>52.93</td>\n",
              "      <td>98.21</td>\n",
              "      <td>72.93</td>\n",
              "      <td>90.29</td>\n",
              "      <td>90.46</td>\n",
              "      <td>52.67</td>\n",
              "      <td>76.10</td>\n",
              "    </tr>\n",
              "    <tr>\n",
              "      <th>15 Pará</th>\n",
              "      <td>24.11</td>\n",
              "      <td>73.83</td>\n",
              "      <td>55.85</td>\n",
              "      <td>67.50</td>\n",
              "      <td>66.50</td>\n",
              "      <td>41.59</td>\n",
              "      <td>54.99</td>\n",
              "    </tr>\n",
              "  </tbody>\n",
              "</table>\n",
              "</div>"
            ],
            "text/plain": [
              "                      2014   2015  2016  2017  2018  2019  Total\n",
              "Unidade da Federação                                            \n",
              "11 Rondônia          67.33 116.26 84.04 87.45 82.45 52.60  81.68\n",
              "12 Acre              11.52  73.22 60.42 69.47 76.11 48.41  56.49\n",
              "13 Amazonas          44.12  97.74 68.07 79.94 78.19 56.47  70.85\n",
              "14 Roraima           52.93  98.21 72.93 90.29 90.46 52.67  76.10\n",
              "15 Pará              24.11  73.83 55.85 67.50 66.50 41.59  54.99"
            ]
          },
          "metadata": {
            "tags": []
          },
          "execution_count": 70
        }
      ]
    },
    {
      "cell_type": "code",
      "metadata": {
        "colab": {
          "base_uri": "https://localhost:8080/"
        },
        "id": "Xm-7agn2vHvZ",
        "outputId": "cae748fe-7988-4d1c-9505-76d74e8aafb2"
      },
      "source": [
        "# Criando uma nova coluna para associar uma região a cada estado.\n",
        "# A partir do indice, foi selecionado apenas o primeiro número para usar como referência para as regiões\n",
        "dados_vacina_hep_A[\"Região\"] = dados_vacina_hep_A.index.str[0]\n",
        "\n",
        "# criando um dicionário que associa a chave 'index'(estados) às correspondentes regiões. \n",
        "regiao_estado = {1:\"Norte\", 2:\"Nordeste\", 3:\"Sudeste\", 4:\"Sul\", 5:\"Centro-Oeste\"}\n",
        "\n",
        "# criando uma função que associa o estado (key) à região (value) e cria a nova coluna.\n",
        "dados_vacina_hep_A[\"Região\"] = dados_vacina_hep_A[\"Região\"].map(lambda x: regiao_estado[int(x)])\n",
        "\n",
        "dados_vacina_hep_A[\"Região\"]"
      ],
      "execution_count": 71,
      "outputs": [
        {
          "output_type": "execute_result",
          "data": {
            "text/plain": [
              "Unidade da Federação\n",
              "11 Rondônia                      Norte\n",
              "12 Acre                          Norte\n",
              "13 Amazonas                      Norte\n",
              "14 Roraima                       Norte\n",
              "15 Pará                          Norte\n",
              "16 Amapá                         Norte\n",
              "17 Tocantins                     Norte\n",
              "21 Maranhão                   Nordeste\n",
              "22 Piauí                      Nordeste\n",
              "23 Ceará                      Nordeste\n",
              "24 Rio Grande do Norte        Nordeste\n",
              "25 Paraíba                    Nordeste\n",
              "26 Pernambuco                 Nordeste\n",
              "27 Alagoas                    Nordeste\n",
              "28 Sergipe                    Nordeste\n",
              "29 Bahia                      Nordeste\n",
              "31 Minas Gerais                Sudeste\n",
              "32 Espírito Santo              Sudeste\n",
              "33 Rio de Janeiro              Sudeste\n",
              "35 São Paulo                   Sudeste\n",
              "41 Paraná                          Sul\n",
              "42 Santa Catarina                  Sul\n",
              "43 Rio Grande do Sul               Sul\n",
              "50 Mato Grosso do Sul     Centro-Oeste\n",
              "51 Mato Grosso            Centro-Oeste\n",
              "52 Goiás                  Centro-Oeste\n",
              "53 Distrito Federal       Centro-Oeste\n",
              "Name: Região, dtype: object"
            ]
          },
          "metadata": {
            "tags": []
          },
          "execution_count": 71
        }
      ]
    },
    {
      "cell_type": "code",
      "metadata": {
        "colab": {
          "base_uri": "https://localhost:8080/",
          "height": 235
        },
        "id": "qNYkY6BfvrMW",
        "outputId": "62e85e08-bdb9-4d2a-e464-023185fcf4a2"
      },
      "source": [
        "dados_vacina_hep_A.head()"
      ],
      "execution_count": 72,
      "outputs": [
        {
          "output_type": "execute_result",
          "data": {
            "text/html": [
              "<div>\n",
              "<style scoped>\n",
              "    .dataframe tbody tr th:only-of-type {\n",
              "        vertical-align: middle;\n",
              "    }\n",
              "\n",
              "    .dataframe tbody tr th {\n",
              "        vertical-align: top;\n",
              "    }\n",
              "\n",
              "    .dataframe thead th {\n",
              "        text-align: right;\n",
              "    }\n",
              "</style>\n",
              "<table border=\"1\" class=\"dataframe\">\n",
              "  <thead>\n",
              "    <tr style=\"text-align: right;\">\n",
              "      <th></th>\n",
              "      <th>2014</th>\n",
              "      <th>2015</th>\n",
              "      <th>2016</th>\n",
              "      <th>2017</th>\n",
              "      <th>2018</th>\n",
              "      <th>2019</th>\n",
              "      <th>Total</th>\n",
              "      <th>Região</th>\n",
              "    </tr>\n",
              "    <tr>\n",
              "      <th>Unidade da Federação</th>\n",
              "      <th></th>\n",
              "      <th></th>\n",
              "      <th></th>\n",
              "      <th></th>\n",
              "      <th></th>\n",
              "      <th></th>\n",
              "      <th></th>\n",
              "      <th></th>\n",
              "    </tr>\n",
              "  </thead>\n",
              "  <tbody>\n",
              "    <tr>\n",
              "      <th>11 Rondônia</th>\n",
              "      <td>67.33</td>\n",
              "      <td>116.26</td>\n",
              "      <td>84.04</td>\n",
              "      <td>87.45</td>\n",
              "      <td>82.45</td>\n",
              "      <td>52.60</td>\n",
              "      <td>81.68</td>\n",
              "      <td>Norte</td>\n",
              "    </tr>\n",
              "    <tr>\n",
              "      <th>12 Acre</th>\n",
              "      <td>11.52</td>\n",
              "      <td>73.22</td>\n",
              "      <td>60.42</td>\n",
              "      <td>69.47</td>\n",
              "      <td>76.11</td>\n",
              "      <td>48.41</td>\n",
              "      <td>56.49</td>\n",
              "      <td>Norte</td>\n",
              "    </tr>\n",
              "    <tr>\n",
              "      <th>13 Amazonas</th>\n",
              "      <td>44.12</td>\n",
              "      <td>97.74</td>\n",
              "      <td>68.07</td>\n",
              "      <td>79.94</td>\n",
              "      <td>78.19</td>\n",
              "      <td>56.47</td>\n",
              "      <td>70.85</td>\n",
              "      <td>Norte</td>\n",
              "    </tr>\n",
              "    <tr>\n",
              "      <th>14 Roraima</th>\n",
              "      <td>52.93</td>\n",
              "      <td>98.21</td>\n",
              "      <td>72.93</td>\n",
              "      <td>90.29</td>\n",
              "      <td>90.46</td>\n",
              "      <td>52.67</td>\n",
              "      <td>76.10</td>\n",
              "      <td>Norte</td>\n",
              "    </tr>\n",
              "    <tr>\n",
              "      <th>15 Pará</th>\n",
              "      <td>24.11</td>\n",
              "      <td>73.83</td>\n",
              "      <td>55.85</td>\n",
              "      <td>67.50</td>\n",
              "      <td>66.50</td>\n",
              "      <td>41.59</td>\n",
              "      <td>54.99</td>\n",
              "      <td>Norte</td>\n",
              "    </tr>\n",
              "  </tbody>\n",
              "</table>\n",
              "</div>"
            ],
            "text/plain": [
              "                      2014   2015  2016  2017  2018  2019  Total Região\n",
              "Unidade da Federação                                                   \n",
              "11 Rondônia          67.33 116.26 84.04 87.45 82.45 52.60  81.68  Norte\n",
              "12 Acre              11.52  73.22 60.42 69.47 76.11 48.41  56.49  Norte\n",
              "13 Amazonas          44.12  97.74 68.07 79.94 78.19 56.47  70.85  Norte\n",
              "14 Roraima           52.93  98.21 72.93 90.29 90.46 52.67  76.10  Norte\n",
              "15 Pará              24.11  73.83 55.85 67.50 66.50 41.59  54.99  Norte"
            ]
          },
          "metadata": {
            "tags": []
          },
          "execution_count": 72
        }
      ]
    },
    {
      "cell_type": "code",
      "metadata": {
        "id": "naRjweSyHEfa"
      },
      "source": [
        "#removendo os numeros contidos antes dos nomes dos imunos no indice\n",
        "dados_vacina_hep_A.index = dados_vacina_hep_A.index.str[3:]"
      ],
      "execution_count": 73,
      "outputs": []
    },
    {
      "cell_type": "code",
      "metadata": {
        "id": "_iDMUjIaH5Xy",
        "colab": {
          "base_uri": "https://localhost:8080/",
          "height": 235
        },
        "outputId": "a91e2ccc-7470-4ef0-9cb3-6132eda28ff9"
      },
      "source": [
        "#removendo o espaço que há antes do nome\n",
        "dados_vacina_hep_A.index = dados_vacina_hep_A.index.str.strip()\n",
        "dados_vacina_hep_A.head()"
      ],
      "execution_count": 74,
      "outputs": [
        {
          "output_type": "execute_result",
          "data": {
            "text/html": [
              "<div>\n",
              "<style scoped>\n",
              "    .dataframe tbody tr th:only-of-type {\n",
              "        vertical-align: middle;\n",
              "    }\n",
              "\n",
              "    .dataframe tbody tr th {\n",
              "        vertical-align: top;\n",
              "    }\n",
              "\n",
              "    .dataframe thead th {\n",
              "        text-align: right;\n",
              "    }\n",
              "</style>\n",
              "<table border=\"1\" class=\"dataframe\">\n",
              "  <thead>\n",
              "    <tr style=\"text-align: right;\">\n",
              "      <th></th>\n",
              "      <th>2014</th>\n",
              "      <th>2015</th>\n",
              "      <th>2016</th>\n",
              "      <th>2017</th>\n",
              "      <th>2018</th>\n",
              "      <th>2019</th>\n",
              "      <th>Total</th>\n",
              "      <th>Região</th>\n",
              "    </tr>\n",
              "    <tr>\n",
              "      <th>Unidade da Federação</th>\n",
              "      <th></th>\n",
              "      <th></th>\n",
              "      <th></th>\n",
              "      <th></th>\n",
              "      <th></th>\n",
              "      <th></th>\n",
              "      <th></th>\n",
              "      <th></th>\n",
              "    </tr>\n",
              "  </thead>\n",
              "  <tbody>\n",
              "    <tr>\n",
              "      <th>Rondônia</th>\n",
              "      <td>67.33</td>\n",
              "      <td>116.26</td>\n",
              "      <td>84.04</td>\n",
              "      <td>87.45</td>\n",
              "      <td>82.45</td>\n",
              "      <td>52.60</td>\n",
              "      <td>81.68</td>\n",
              "      <td>Norte</td>\n",
              "    </tr>\n",
              "    <tr>\n",
              "      <th>Acre</th>\n",
              "      <td>11.52</td>\n",
              "      <td>73.22</td>\n",
              "      <td>60.42</td>\n",
              "      <td>69.47</td>\n",
              "      <td>76.11</td>\n",
              "      <td>48.41</td>\n",
              "      <td>56.49</td>\n",
              "      <td>Norte</td>\n",
              "    </tr>\n",
              "    <tr>\n",
              "      <th>Amazonas</th>\n",
              "      <td>44.12</td>\n",
              "      <td>97.74</td>\n",
              "      <td>68.07</td>\n",
              "      <td>79.94</td>\n",
              "      <td>78.19</td>\n",
              "      <td>56.47</td>\n",
              "      <td>70.85</td>\n",
              "      <td>Norte</td>\n",
              "    </tr>\n",
              "    <tr>\n",
              "      <th>Roraima</th>\n",
              "      <td>52.93</td>\n",
              "      <td>98.21</td>\n",
              "      <td>72.93</td>\n",
              "      <td>90.29</td>\n",
              "      <td>90.46</td>\n",
              "      <td>52.67</td>\n",
              "      <td>76.10</td>\n",
              "      <td>Norte</td>\n",
              "    </tr>\n",
              "    <tr>\n",
              "      <th>Pará</th>\n",
              "      <td>24.11</td>\n",
              "      <td>73.83</td>\n",
              "      <td>55.85</td>\n",
              "      <td>67.50</td>\n",
              "      <td>66.50</td>\n",
              "      <td>41.59</td>\n",
              "      <td>54.99</td>\n",
              "      <td>Norte</td>\n",
              "    </tr>\n",
              "  </tbody>\n",
              "</table>\n",
              "</div>"
            ],
            "text/plain": [
              "                      2014   2015  2016  2017  2018  2019  Total Região\n",
              "Unidade da Federação                                                   \n",
              "Rondônia             67.33 116.26 84.04 87.45 82.45 52.60  81.68  Norte\n",
              "Acre                 11.52  73.22 60.42 69.47 76.11 48.41  56.49  Norte\n",
              "Amazonas             44.12  97.74 68.07 79.94 78.19 56.47  70.85  Norte\n",
              "Roraima              52.93  98.21 72.93 90.29 90.46 52.67  76.10  Norte\n",
              "Pará                 24.11  73.83 55.85 67.50 66.50 41.59  54.99  Norte"
            ]
          },
          "metadata": {
            "tags": []
          },
          "execution_count": 74
        }
      ]
    },
    {
      "cell_type": "code",
      "metadata": {
        "id": "5SRf4H0NNJme",
        "colab": {
          "base_uri": "https://localhost:8080/",
          "height": 648
        },
        "outputId": "96dd875b-2935-44e7-e46e-e9afccc4a301"
      },
      "source": [
        "#ordenando os dados pelo total\n",
        "dados_vacina_hep_A = dados_vacina_hep_A.sort_values('Total', ascending = True)\n",
        "\n",
        "#criando a vizualização dos dados totais de cobertura vacinal de hepatite A\n",
        "plt.figure(figsize=(8,10))\n",
        "ax = plt.barh(dados_vacina_hep_A.index, dados_vacina_hep_A[\"Total\"], height = 0.5, color = \"maroon\")\n",
        "\n",
        "plt.title(\"Dados de Cobertura Vacinal de Hepaptite A \\n por Unidade da Federação\", fontsize = 16, fontweight = \"bold\") #título\n",
        "plt.xlabel(\"Cobertura Vacinal %\",fontsize = 14, fontweight = \"bold\") #título eixo x\n",
        "plt.ylabel(\"Unidade da Federação\",fontsize = 14, fontweight = \"bold\") #título eixo y\n",
        "\n",
        "plt.tick_params(axis=\"x\", labelsize=12) #modifica o tamanho do tick em x\n",
        "plt.tick_params(axis=\"y\", labelsize=12) #modifica o tamanho do tick em y\n",
        "\n",
        "plt.grid(True, color='brown', alpha=0.5, linestyle='dashed', linewidth=0.5)\n",
        "\n",
        "plt.xlim(0,dados_vacina_hep_A[\"Total\"].max()*1.12) #aumentando o limite do eixo x para caber o valor de cada barra sem sobrepor o eixo\n",
        "\n",
        "#rotina para adicionar o número em frente cada barra\n",
        "for index, value in enumerate(dados_vacina_hep_A[\"Total\"].round(2)):\n",
        "  plt.text(value, index, str(value), color='black', fontweight=\"bold\", fontsize=12, verticalalignment='center')\n",
        "\n",
        "plt.show()"
      ],
      "execution_count": 75,
      "outputs": [
        {
          "output_type": "display_data",
          "data": {
            "image/png": "[encoded data removed]",
            "text/plain": [
              "<Figure size 576x720 with 1 Axes>"
            ]
          },
          "metadata": {
            "tags": [],
            "needs_background": "light"
          }
        }
      ]
    },
    {
      "cell_type": "markdown",
      "metadata": {
        "id": "I_n94xS8w2iM"
      },
      "source": [
        "O gráfico mostra que todos as unidades federativas apresentam coberturas vacinais abaixo de 90%, como estados como Acre e Pará, apresentando taxas pouco maiores que 50%. \n",
        "\n"
      ]
    },
    {
      "cell_type": "code",
      "metadata": {
        "id": "PLiv7tuWunVY"
      },
      "source": [
        "#construindo um novo Dataframe sem a coluna \"Total\"\n",
        "dados_vacina_hep_A_uso = dados_vacina_hep_A.drop(\"Total\", axis=1) "
      ],
      "execution_count": 76,
      "outputs": []
    },
    {
      "cell_type": "code",
      "metadata": {
        "id": "6NX-dDeD8kPj",
        "colab": {
          "base_uri": "https://localhost:8080/",
          "height": 440
        },
        "outputId": "0cbeafc5-7ee9-47ad-96ff-2489a49ea5bd"
      },
      "source": [
        "#visualizando os dados de cobertura vacinal segundo UF no período de 2014 a 2019\n",
        "ax = dados_vacina_hep_A_uso[[\"2014\", \"2015\", \"2016\", \"2017\", \"2018\", \"2019\"]].T.plot(figsize=(10,6), colormap = 'copper')\n",
        "\n",
        "plt.title(\"Dados de Cobertura Vacinal por Ano \\n segundo Unidade da Federação\", fontsize = 16) #Título figura\n",
        "plt.xlabel(\"Ano\",fontsize = 14, fontweight = \"bold\") #título eixo x\n",
        "plt.ylabel(\"Cobertura Vacinal %\",fontsize = 14, fontweight = \"bold\") #título eixo y\n",
        "\n",
        "plt.tick_params(axis=\"x\", labelsize=12) #modifica o tamanho do tick em x\n",
        "plt.tick_params(axis=\"y\", labelsize=12) #modifica o tamanho do tick em y\n",
        "\n",
        "plt.ylim(0,120) #definindo limites do eixo y\n",
        "plt.axhline(95, linestyle=\"--\", color='red') #construindo linha indicativa de taxa de 75%\n",
        "\n",
        "\n",
        "plt.legend(loc='center left', bbox_to_anchor=(1.0, 0.5)) #posicionando a legenda\n",
        "\n",
        "plt.show()"
      ],
      "execution_count": 77,
      "outputs": [
        {
          "output_type": "display_data",
          "data": {
            "image/png": "[encoded data removed]",
            "text/plain": [
              "<Figure size 720x432 with 1 Axes>"
            ]
          },
          "metadata": {
            "tags": [],
            "needs_background": "light"
          }
        }
      ]
    },
    {
      "cell_type": "markdown",
      "metadata": {
        "id": "jNvXSgpCCVEL"
      },
      "source": [
        "Apesar das diferenças nas coberturas vacinais, o gráfico mostra que todas as UF's apresentaram o mesmo perfil no decorrer dos anos, mantendo as taxas de cobertura vacinal abaixo do recomendado desde 2016. Essa semelhança nos perfis levanta da hipótese de que os fatores que influenciaram no aumento ou redução da cobertura vacinal foi comum para todas as Unidades Federativas."
      ]
    },
    {
      "cell_type": "markdown",
      "metadata": {
        "id": "dEnrPn1iy6kN"
      },
      "source": [
        "#### Cobertura Vacinal por Região"
      ]
    },
    {
      "cell_type": "code",
      "metadata": {
        "id": "6AzoqaoBNc02",
        "colab": {
          "base_uri": "https://localhost:8080/",
          "height": 235
        },
        "outputId": "80d4bc88-5767-4311-ab47-db8648eae5ac"
      },
      "source": [
        "dados_vacina_hep_A.head()"
      ],
      "execution_count": 78,
      "outputs": [
        {
          "output_type": "execute_result",
          "data": {
            "text/html": [
              "<div>\n",
              "<style scoped>\n",
              "    .dataframe tbody tr th:only-of-type {\n",
              "        vertical-align: middle;\n",
              "    }\n",
              "\n",
              "    .dataframe tbody tr th {\n",
              "        vertical-align: top;\n",
              "    }\n",
              "\n",
              "    .dataframe thead th {\n",
              "        text-align: right;\n",
              "    }\n",
              "</style>\n",
              "<table border=\"1\" class=\"dataframe\">\n",
              "  <thead>\n",
              "    <tr style=\"text-align: right;\">\n",
              "      <th></th>\n",
              "      <th>2014</th>\n",
              "      <th>2015</th>\n",
              "      <th>2016</th>\n",
              "      <th>2017</th>\n",
              "      <th>2018</th>\n",
              "      <th>2019</th>\n",
              "      <th>Total</th>\n",
              "      <th>Região</th>\n",
              "    </tr>\n",
              "    <tr>\n",
              "      <th>Unidade da Federação</th>\n",
              "      <th></th>\n",
              "      <th></th>\n",
              "      <th></th>\n",
              "      <th></th>\n",
              "      <th></th>\n",
              "      <th></th>\n",
              "      <th></th>\n",
              "      <th></th>\n",
              "    </tr>\n",
              "  </thead>\n",
              "  <tbody>\n",
              "    <tr>\n",
              "      <th>Pará</th>\n",
              "      <td>24.11</td>\n",
              "      <td>73.83</td>\n",
              "      <td>55.85</td>\n",
              "      <td>67.50</td>\n",
              "      <td>66.50</td>\n",
              "      <td>41.59</td>\n",
              "      <td>54.99</td>\n",
              "      <td>Norte</td>\n",
              "    </tr>\n",
              "    <tr>\n",
              "      <th>Acre</th>\n",
              "      <td>11.52</td>\n",
              "      <td>73.22</td>\n",
              "      <td>60.42</td>\n",
              "      <td>69.47</td>\n",
              "      <td>76.11</td>\n",
              "      <td>48.41</td>\n",
              "      <td>56.49</td>\n",
              "      <td>Norte</td>\n",
              "    </tr>\n",
              "    <tr>\n",
              "      <th>Maranhão</th>\n",
              "      <td>43.49</td>\n",
              "      <td>91.82</td>\n",
              "      <td>56.54</td>\n",
              "      <td>72.03</td>\n",
              "      <td>69.80</td>\n",
              "      <td>46.01</td>\n",
              "      <td>63.25</td>\n",
              "      <td>Nordeste</td>\n",
              "    </tr>\n",
              "    <tr>\n",
              "      <th>Rio Grande do Norte</th>\n",
              "      <td>41.17</td>\n",
              "      <td>87.97</td>\n",
              "      <td>63.17</td>\n",
              "      <td>66.93</td>\n",
              "      <td>76.86</td>\n",
              "      <td>44.84</td>\n",
              "      <td>63.45</td>\n",
              "      <td>Nordeste</td>\n",
              "    </tr>\n",
              "    <tr>\n",
              "      <th>Amapá</th>\n",
              "      <td>38.02</td>\n",
              "      <td>88.47</td>\n",
              "      <td>87.09</td>\n",
              "      <td>69.18</td>\n",
              "      <td>68.17</td>\n",
              "      <td>47.09</td>\n",
              "      <td>66.77</td>\n",
              "      <td>Norte</td>\n",
              "    </tr>\n",
              "  </tbody>\n",
              "</table>\n",
              "</div>"
            ],
            "text/plain": [
              "                      2014  2015  2016  2017  2018  2019  Total    Região\n",
              "Unidade da Federação                                                     \n",
              "Pará                 24.11 73.83 55.85 67.50 66.50 41.59  54.99     Norte\n",
              "Acre                 11.52 73.22 60.42 69.47 76.11 48.41  56.49     Norte\n",
              "Maranhão             43.49 91.82 56.54 72.03 69.80 46.01  63.25  Nordeste\n",
              "Rio Grande do Norte  41.17 87.97 63.17 66.93 76.86 44.84  63.45  Nordeste\n",
              "Amapá                38.02 88.47 87.09 69.18 68.17 47.09  66.77     Norte"
            ]
          },
          "metadata": {
            "tags": []
          },
          "execution_count": 78
        }
      ]
    },
    {
      "cell_type": "code",
      "metadata": {
        "id": "8BVDF8glwBwX"
      },
      "source": [
        "# calculando o valor médio da cobertura vacinal por região\n",
        "norte = dados_vacina_hep_A.query(\"Região == 'Norte'\")[\"Total\"].mean()\n",
        "sul = dados_vacina_hep_A.query(\"Região == 'Sul'\")[\"Total\"].mean()\n",
        "sudeste = dados_vacina_hep_A.query(\"Região == 'Sudeste'\")[\"Total\"].mean()\n",
        "centro_oeste = dados_vacina_hep_A.query(\"Região == 'Centro-Oeste'\")[\"Total\"].mean()\n",
        "nordeste = dados_vacina_hep_A.query(\"Região == 'Nordeste'\")[\"Total\"].mean()"
      ],
      "execution_count": 79,
      "outputs": []
    },
    {
      "cell_type": "code",
      "metadata": {
        "id": "_HjJPitjwOxP"
      },
      "source": [
        "# criando um dicionário para associar região e cobertura vacinal\n",
        "dados_cv_hep_A_regiao = {'Região': [\"Norte\", \"Sul\", \"Sudeste\", \"Centro-Oeste\", \"Nordeste\"], 'Cobertura Vacinal': [norte, sul, sudeste, centro_oeste, nordeste]}"
      ],
      "execution_count": 80,
      "outputs": []
    },
    {
      "cell_type": "code",
      "metadata": {
        "id": "yZUO4p_UwvnX",
        "colab": {
          "base_uri": "https://localhost:8080/",
          "height": 204
        },
        "outputId": "f5d1fe26-62e8-4723-e4d6-8c2500795b5d"
      },
      "source": [
        "# Criando um novo DataFrame com a região e a cobertura vacinal\n",
        "dados_cv_por_regiao = pd.DataFrame(data=dados_cv_hep_A_regiao)\n",
        "dados_cv_por_regiao = dados_cv_por_regiao.sort_values('Cobertura Vacinal', ascending = False)\n",
        "dados_cv_por_regiao"
      ],
      "execution_count": 81,
      "outputs": [
        {
          "output_type": "execute_result",
          "data": {
            "text/html": [
              "<div>\n",
              "<style scoped>\n",
              "    .dataframe tbody tr th:only-of-type {\n",
              "        vertical-align: middle;\n",
              "    }\n",
              "\n",
              "    .dataframe tbody tr th {\n",
              "        vertical-align: top;\n",
              "    }\n",
              "\n",
              "    .dataframe thead th {\n",
              "        text-align: right;\n",
              "    }\n",
              "</style>\n",
              "<table border=\"1\" class=\"dataframe\">\n",
              "  <thead>\n",
              "    <tr style=\"text-align: right;\">\n",
              "      <th></th>\n",
              "      <th>Região</th>\n",
              "      <th>Cobertura Vacinal</th>\n",
              "    </tr>\n",
              "  </thead>\n",
              "  <tbody>\n",
              "    <tr>\n",
              "      <th>3</th>\n",
              "      <td>Centro-Oeste</td>\n",
              "      <td>79.76</td>\n",
              "    </tr>\n",
              "    <tr>\n",
              "      <th>1</th>\n",
              "      <td>Sul</td>\n",
              "      <td>79.54</td>\n",
              "    </tr>\n",
              "    <tr>\n",
              "      <th>2</th>\n",
              "      <td>Sudeste</td>\n",
              "      <td>77.37</td>\n",
              "    </tr>\n",
              "    <tr>\n",
              "      <th>4</th>\n",
              "      <td>Nordeste</td>\n",
              "      <td>71.32</td>\n",
              "    </tr>\n",
              "    <tr>\n",
              "      <th>0</th>\n",
              "      <td>Norte</td>\n",
              "      <td>68.89</td>\n",
              "    </tr>\n",
              "  </tbody>\n",
              "</table>\n",
              "</div>"
            ],
            "text/plain": [
              "         Região  Cobertura Vacinal\n",
              "3  Centro-Oeste              79.76\n",
              "1           Sul              79.54\n",
              "2       Sudeste              77.37\n",
              "4      Nordeste              71.32\n",
              "0         Norte              68.89"
            ]
          },
          "metadata": {
            "tags": []
          },
          "execution_count": 81
        }
      ]
    },
    {
      "cell_type": "code",
      "metadata": {
        "id": "_G98T1yNy33Y",
        "colab": {
          "base_uri": "https://localhost:8080/",
          "height": 449
        },
        "outputId": "e62565ca-ef8c-4c6d-ba3d-af7c22b326eb"
      },
      "source": [
        "#criando a vizualização dos dados totais de cobertura vacinal de hepatite A por Região\n",
        "\n",
        "plt.figure(figsize=(10, 7))\n",
        "ax = plt.bar(dados_cv_por_regiao[\"Região\"], dados_cv_por_regiao[\"Cobertura Vacinal\"], color = \"firebrick\")\n",
        "\n",
        "plt.title(\"Cobertura Vacinal de Hepatite A por Região brasileira\", fontsize = 16, fontweight = \"bold\") #título\n",
        "#plt.xlabel(\"Região\",fontsize = 14, fontweight = \"bold\") #título eixo x\n",
        "plt.ylabel(\"Cobertura Vacinal %\",fontsize = 14, fontweight = \"bold\") #título eixo y\n",
        "\n",
        "plt.axhline(80, linestyle=\"--\", color='red') #construindo linha indicativa de taxa de 95%\n",
        "plt.ylim(0, 100)\n",
        "\n",
        "plt.tick_params(axis=\"x\", labelsize=12) #modifica o tamanho do tick em x\n",
        "plt.tick_params(axis=\"y\", labelsize=12) #modifica o tamanho do tick em y\n",
        "\n",
        "plt.show()"
      ],
      "execution_count": 82,
      "outputs": [
        {
          "output_type": "display_data",
          "data": {
            "image/png": "[encoded data removed]",
            "text/plain": [
              "<Figure size 720x504 with 1 Axes>"
            ]
          },
          "metadata": {
            "tags": [],
            "needs_background": "light"
          }
        }
      ]
    },
    {
      "cell_type": "markdown",
      "metadata": {
        "id": "30OKK2eqhwKB"
      },
      "source": [
        "#### Observações:\n",
        "O gráfico mostra que em termos gerais Centro-oeste e Sul são as região com maior cobetura vacinal e, ainda assim, com taxa de pouco abaixo de 80%. A região Norte é a que apresenta menor taxa."
      ]
    },
    {
      "cell_type": "markdown",
      "metadata": {
        "id": "Qa_SHdMLKE2e"
      },
      "source": [
        "### Número de casos de hepatite A"
      ]
    },
    {
      "cell_type": "code",
      "metadata": {
        "id": "xK1SavLw6cZ0",
        "colab": {
          "base_uri": "https://localhost:8080/",
          "height": 204
        },
        "outputId": "85ff51d0-8185-4d42-c838-0731d4848ee1"
      },
      "source": [
        "#Importando o banco de dados de número de casos de hepatite A  por ano segundo unidade da Federação\n",
        "dados_casos_hep_A = pd.read_excel('/content/drive/MyDrive/Bootcamp Data Science/Módulo 2/Projeto 2/dados_compilados_casos_hepatite_a.xlsx')\n",
        "dados_casos_hep_A.head()"
      ],
      "execution_count": 83,
      "outputs": [
        {
          "output_type": "execute_result",
          "data": {
            "text/html": [
              "<div>\n",
              "<style scoped>\n",
              "    .dataframe tbody tr th:only-of-type {\n",
              "        vertical-align: middle;\n",
              "    }\n",
              "\n",
              "    .dataframe tbody tr th {\n",
              "        vertical-align: top;\n",
              "    }\n",
              "\n",
              "    .dataframe thead th {\n",
              "        text-align: right;\n",
              "    }\n",
              "</style>\n",
              "<table border=\"1\" class=\"dataframe\">\n",
              "  <thead>\n",
              "    <tr style=\"text-align: right;\">\n",
              "      <th></th>\n",
              "      <th>Unidade da Federação</th>\n",
              "      <th>Total</th>\n",
              "      <th>1999-2006</th>\n",
              "      <th>2007</th>\n",
              "      <th>2008</th>\n",
              "      <th>2009</th>\n",
              "      <th>2010</th>\n",
              "      <th>2011</th>\n",
              "      <th>2012</th>\n",
              "      <th>2013</th>\n",
              "      <th>2014</th>\n",
              "      <th>2015</th>\n",
              "      <th>2016</th>\n",
              "      <th>2017</th>\n",
              "      <th>2018</th>\n",
              "      <th>2019</th>\n",
              "    </tr>\n",
              "  </thead>\n",
              "  <tbody>\n",
              "    <tr>\n",
              "      <th>0</th>\n",
              "      <td>Acre</td>\n",
              "      <td>4583</td>\n",
              "      <td>2306</td>\n",
              "      <td>224</td>\n",
              "      <td>111</td>\n",
              "      <td>74</td>\n",
              "      <td>108</td>\n",
              "      <td>402</td>\n",
              "      <td>641</td>\n",
              "      <td>304</td>\n",
              "      <td>190</td>\n",
              "      <td>96</td>\n",
              "      <td>62</td>\n",
              "      <td>39</td>\n",
              "      <td>14</td>\n",
              "      <td>12</td>\n",
              "    </tr>\n",
              "    <tr>\n",
              "      <th>1</th>\n",
              "      <td>Alagoas</td>\n",
              "      <td>4024</td>\n",
              "      <td>1855</td>\n",
              "      <td>233</td>\n",
              "      <td>390</td>\n",
              "      <td>292</td>\n",
              "      <td>230</td>\n",
              "      <td>337</td>\n",
              "      <td>148</td>\n",
              "      <td>203</td>\n",
              "      <td>143</td>\n",
              "      <td>109</td>\n",
              "      <td>45</td>\n",
              "      <td>25</td>\n",
              "      <td>8</td>\n",
              "      <td>6</td>\n",
              "    </tr>\n",
              "    <tr>\n",
              "      <th>2</th>\n",
              "      <td>Amapá</td>\n",
              "      <td>4264</td>\n",
              "      <td>2210</td>\n",
              "      <td>121</td>\n",
              "      <td>171</td>\n",
              "      <td>168</td>\n",
              "      <td>252</td>\n",
              "      <td>340</td>\n",
              "      <td>224</td>\n",
              "      <td>91</td>\n",
              "      <td>376</td>\n",
              "      <td>210</td>\n",
              "      <td>44</td>\n",
              "      <td>37</td>\n",
              "      <td>17</td>\n",
              "      <td>3</td>\n",
              "    </tr>\n",
              "    <tr>\n",
              "      <th>3</th>\n",
              "      <td>Amazonas</td>\n",
              "      <td>14245</td>\n",
              "      <td>7751</td>\n",
              "      <td>519</td>\n",
              "      <td>780</td>\n",
              "      <td>956</td>\n",
              "      <td>708</td>\n",
              "      <td>795</td>\n",
              "      <td>521</td>\n",
              "      <td>660</td>\n",
              "      <td>940</td>\n",
              "      <td>402</td>\n",
              "      <td>69</td>\n",
              "      <td>56</td>\n",
              "      <td>59</td>\n",
              "      <td>29</td>\n",
              "    </tr>\n",
              "    <tr>\n",
              "      <th>4</th>\n",
              "      <td>Bahia</td>\n",
              "      <td>9263</td>\n",
              "      <td>5022</td>\n",
              "      <td>764</td>\n",
              "      <td>593</td>\n",
              "      <td>848</td>\n",
              "      <td>411</td>\n",
              "      <td>316</td>\n",
              "      <td>191</td>\n",
              "      <td>345</td>\n",
              "      <td>476</td>\n",
              "      <td>128</td>\n",
              "      <td>60</td>\n",
              "      <td>55</td>\n",
              "      <td>40</td>\n",
              "      <td>14</td>\n",
              "    </tr>\n",
              "  </tbody>\n",
              "</table>\n",
              "</div>"
            ],
            "text/plain": [
              "  Unidade da Federação  Total  1999-2006  2007  ...  2016  2017  2018  2019\n",
              "0                 Acre   4583       2306   224  ...    62    39    14    12\n",
              "1              Alagoas   4024       1855   233  ...    45    25     8     6\n",
              "2                Amapá   4264       2210   121  ...    44    37    17     3\n",
              "3             Amazonas  14245       7751   519  ...    69    56    59    29\n",
              "4                Bahia   9263       5022   764  ...    60    55    40    14\n",
              "\n",
              "[5 rows x 16 columns]"
            ]
          },
          "metadata": {
            "tags": []
          },
          "execution_count": 83
        }
      ]
    },
    {
      "cell_type": "code",
      "metadata": {
        "id": "iTPqnTN_Iij-",
        "colab": {
          "base_uri": "https://localhost:8080/",
          "height": 235
        },
        "outputId": "266ee8a6-e4a5-4e9c-9f9f-be652c7f767b"
      },
      "source": [
        "#Transformando a coluna 'Unidade da Federação' em indice\n",
        "dados_casos_hep_A = dados_casos_hep_A.set_index(\"Unidade da Federação\")\n",
        "dados_casos_hep_A.head()"
      ],
      "execution_count": 84,
      "outputs": [
        {
          "output_type": "execute_result",
          "data": {
            "text/html": [
              "<div>\n",
              "<style scoped>\n",
              "    .dataframe tbody tr th:only-of-type {\n",
              "        vertical-align: middle;\n",
              "    }\n",
              "\n",
              "    .dataframe tbody tr th {\n",
              "        vertical-align: top;\n",
              "    }\n",
              "\n",
              "    .dataframe thead th {\n",
              "        text-align: right;\n",
              "    }\n",
              "</style>\n",
              "<table border=\"1\" class=\"dataframe\">\n",
              "  <thead>\n",
              "    <tr style=\"text-align: right;\">\n",
              "      <th></th>\n",
              "      <th>Total</th>\n",
              "      <th>1999-2006</th>\n",
              "      <th>2007</th>\n",
              "      <th>2008</th>\n",
              "      <th>2009</th>\n",
              "      <th>2010</th>\n",
              "      <th>2011</th>\n",
              "      <th>2012</th>\n",
              "      <th>2013</th>\n",
              "      <th>2014</th>\n",
              "      <th>2015</th>\n",
              "      <th>2016</th>\n",
              "      <th>2017</th>\n",
              "      <th>2018</th>\n",
              "      <th>2019</th>\n",
              "    </tr>\n",
              "    <tr>\n",
              "      <th>Unidade da Federação</th>\n",
              "      <th></th>\n",
              "      <th></th>\n",
              "      <th></th>\n",
              "      <th></th>\n",
              "      <th></th>\n",
              "      <th></th>\n",
              "      <th></th>\n",
              "      <th></th>\n",
              "      <th></th>\n",
              "      <th></th>\n",
              "      <th></th>\n",
              "      <th></th>\n",
              "      <th></th>\n",
              "      <th></th>\n",
              "      <th></th>\n",
              "    </tr>\n",
              "  </thead>\n",
              "  <tbody>\n",
              "    <tr>\n",
              "      <th>Acre</th>\n",
              "      <td>4583</td>\n",
              "      <td>2306</td>\n",
              "      <td>224</td>\n",
              "      <td>111</td>\n",
              "      <td>74</td>\n",
              "      <td>108</td>\n",
              "      <td>402</td>\n",
              "      <td>641</td>\n",
              "      <td>304</td>\n",
              "      <td>190</td>\n",
              "      <td>96</td>\n",
              "      <td>62</td>\n",
              "      <td>39</td>\n",
              "      <td>14</td>\n",
              "      <td>12</td>\n",
              "    </tr>\n",
              "    <tr>\n",
              "      <th>Alagoas</th>\n",
              "      <td>4024</td>\n",
              "      <td>1855</td>\n",
              "      <td>233</td>\n",
              "      <td>390</td>\n",
              "      <td>292</td>\n",
              "      <td>230</td>\n",
              "      <td>337</td>\n",
              "      <td>148</td>\n",
              "      <td>203</td>\n",
              "      <td>143</td>\n",
              "      <td>109</td>\n",
              "      <td>45</td>\n",
              "      <td>25</td>\n",
              "      <td>8</td>\n",
              "      <td>6</td>\n",
              "    </tr>\n",
              "    <tr>\n",
              "      <th>Amapá</th>\n",
              "      <td>4264</td>\n",
              "      <td>2210</td>\n",
              "      <td>121</td>\n",
              "      <td>171</td>\n",
              "      <td>168</td>\n",
              "      <td>252</td>\n",
              "      <td>340</td>\n",
              "      <td>224</td>\n",
              "      <td>91</td>\n",
              "      <td>376</td>\n",
              "      <td>210</td>\n",
              "      <td>44</td>\n",
              "      <td>37</td>\n",
              "      <td>17</td>\n",
              "      <td>3</td>\n",
              "    </tr>\n",
              "    <tr>\n",
              "      <th>Amazonas</th>\n",
              "      <td>14245</td>\n",
              "      <td>7751</td>\n",
              "      <td>519</td>\n",
              "      <td>780</td>\n",
              "      <td>956</td>\n",
              "      <td>708</td>\n",
              "      <td>795</td>\n",
              "      <td>521</td>\n",
              "      <td>660</td>\n",
              "      <td>940</td>\n",
              "      <td>402</td>\n",
              "      <td>69</td>\n",
              "      <td>56</td>\n",
              "      <td>59</td>\n",
              "      <td>29</td>\n",
              "    </tr>\n",
              "    <tr>\n",
              "      <th>Bahia</th>\n",
              "      <td>9263</td>\n",
              "      <td>5022</td>\n",
              "      <td>764</td>\n",
              "      <td>593</td>\n",
              "      <td>848</td>\n",
              "      <td>411</td>\n",
              "      <td>316</td>\n",
              "      <td>191</td>\n",
              "      <td>345</td>\n",
              "      <td>476</td>\n",
              "      <td>128</td>\n",
              "      <td>60</td>\n",
              "      <td>55</td>\n",
              "      <td>40</td>\n",
              "      <td>14</td>\n",
              "    </tr>\n",
              "  </tbody>\n",
              "</table>\n",
              "</div>"
            ],
            "text/plain": [
              "                      Total  1999-2006  2007  2008  ...  2016  2017  2018  2019\n",
              "Unidade da Federação                                ...                        \n",
              "Acre                   4583       2306   224   111  ...    62    39    14    12\n",
              "Alagoas                4024       1855   233   390  ...    45    25     8     6\n",
              "Amapá                  4264       2210   121   171  ...    44    37    17     3\n",
              "Amazonas              14245       7751   519   780  ...    69    56    59    29\n",
              "Bahia                  9263       5022   764   593  ...    60    55    40    14\n",
              "\n",
              "[5 rows x 15 columns]"
            ]
          },
          "metadata": {
            "tags": []
          },
          "execution_count": 84
        }
      ]
    },
    {
      "cell_type": "code",
      "metadata": {
        "id": "CcWxlu_N0vvL",
        "colab": {
          "base_uri": "https://localhost:8080/",
          "height": 235
        },
        "outputId": "3fb59d2c-e260-4c1c-a927-f7bed440f7b3"
      },
      "source": [
        "#criando novo dataset sem as colunas 'Total' e '1999-2006'\n",
        "dados_casos_hep_A_uso = dados_casos_hep_A.drop(\"Total\", axis=1)\n",
        "dados_casos_hep_A_uso = dados_casos_hep_A_uso.drop(\"1999-2006\", axis=1)\n",
        "dados_casos_hep_A_uso.head()"
      ],
      "execution_count": 85,
      "outputs": [
        {
          "output_type": "execute_result",
          "data": {
            "text/html": [
              "<div>\n",
              "<style scoped>\n",
              "    .dataframe tbody tr th:only-of-type {\n",
              "        vertical-align: middle;\n",
              "    }\n",
              "\n",
              "    .dataframe tbody tr th {\n",
              "        vertical-align: top;\n",
              "    }\n",
              "\n",
              "    .dataframe thead th {\n",
              "        text-align: right;\n",
              "    }\n",
              "</style>\n",
              "<table border=\"1\" class=\"dataframe\">\n",
              "  <thead>\n",
              "    <tr style=\"text-align: right;\">\n",
              "      <th></th>\n",
              "      <th>2007</th>\n",
              "      <th>2008</th>\n",
              "      <th>2009</th>\n",
              "      <th>2010</th>\n",
              "      <th>2011</th>\n",
              "      <th>2012</th>\n",
              "      <th>2013</th>\n",
              "      <th>2014</th>\n",
              "      <th>2015</th>\n",
              "      <th>2016</th>\n",
              "      <th>2017</th>\n",
              "      <th>2018</th>\n",
              "      <th>2019</th>\n",
              "    </tr>\n",
              "    <tr>\n",
              "      <th>Unidade da Federação</th>\n",
              "      <th></th>\n",
              "      <th></th>\n",
              "      <th></th>\n",
              "      <th></th>\n",
              "      <th></th>\n",
              "      <th></th>\n",
              "      <th></th>\n",
              "      <th></th>\n",
              "      <th></th>\n",
              "      <th></th>\n",
              "      <th></th>\n",
              "      <th></th>\n",
              "      <th></th>\n",
              "    </tr>\n",
              "  </thead>\n",
              "  <tbody>\n",
              "    <tr>\n",
              "      <th>Acre</th>\n",
              "      <td>224</td>\n",
              "      <td>111</td>\n",
              "      <td>74</td>\n",
              "      <td>108</td>\n",
              "      <td>402</td>\n",
              "      <td>641</td>\n",
              "      <td>304</td>\n",
              "      <td>190</td>\n",
              "      <td>96</td>\n",
              "      <td>62</td>\n",
              "      <td>39</td>\n",
              "      <td>14</td>\n",
              "      <td>12</td>\n",
              "    </tr>\n",
              "    <tr>\n",
              "      <th>Alagoas</th>\n",
              "      <td>233</td>\n",
              "      <td>390</td>\n",
              "      <td>292</td>\n",
              "      <td>230</td>\n",
              "      <td>337</td>\n",
              "      <td>148</td>\n",
              "      <td>203</td>\n",
              "      <td>143</td>\n",
              "      <td>109</td>\n",
              "      <td>45</td>\n",
              "      <td>25</td>\n",
              "      <td>8</td>\n",
              "      <td>6</td>\n",
              "    </tr>\n",
              "    <tr>\n",
              "      <th>Amapá</th>\n",
              "      <td>121</td>\n",
              "      <td>171</td>\n",
              "      <td>168</td>\n",
              "      <td>252</td>\n",
              "      <td>340</td>\n",
              "      <td>224</td>\n",
              "      <td>91</td>\n",
              "      <td>376</td>\n",
              "      <td>210</td>\n",
              "      <td>44</td>\n",
              "      <td>37</td>\n",
              "      <td>17</td>\n",
              "      <td>3</td>\n",
              "    </tr>\n",
              "    <tr>\n",
              "      <th>Amazonas</th>\n",
              "      <td>519</td>\n",
              "      <td>780</td>\n",
              "      <td>956</td>\n",
              "      <td>708</td>\n",
              "      <td>795</td>\n",
              "      <td>521</td>\n",
              "      <td>660</td>\n",
              "      <td>940</td>\n",
              "      <td>402</td>\n",
              "      <td>69</td>\n",
              "      <td>56</td>\n",
              "      <td>59</td>\n",
              "      <td>29</td>\n",
              "    </tr>\n",
              "    <tr>\n",
              "      <th>Bahia</th>\n",
              "      <td>764</td>\n",
              "      <td>593</td>\n",
              "      <td>848</td>\n",
              "      <td>411</td>\n",
              "      <td>316</td>\n",
              "      <td>191</td>\n",
              "      <td>345</td>\n",
              "      <td>476</td>\n",
              "      <td>128</td>\n",
              "      <td>60</td>\n",
              "      <td>55</td>\n",
              "      <td>40</td>\n",
              "      <td>14</td>\n",
              "    </tr>\n",
              "  </tbody>\n",
              "</table>\n",
              "</div>"
            ],
            "text/plain": [
              "                      2007  2008  2009  2010  ...  2016  2017  2018  2019\n",
              "Unidade da Federação                          ...                        \n",
              "Acre                   224   111    74   108  ...    62    39    14    12\n",
              "Alagoas                233   390   292   230  ...    45    25     8     6\n",
              "Amapá                  121   171   168   252  ...    44    37    17     3\n",
              "Amazonas               519   780   956   708  ...    69    56    59    29\n",
              "Bahia                  764   593   848   411  ...    60    55    40    14\n",
              "\n",
              "[5 rows x 13 columns]"
            ]
          },
          "metadata": {
            "tags": []
          },
          "execution_count": 85
        }
      ]
    },
    {
      "cell_type": "code",
      "metadata": {
        "id": "6dz9nLvyS7v5",
        "colab": {
          "base_uri": "https://localhost:8080/",
          "height": 235
        },
        "outputId": "b04376e2-059d-4a83-dd56-adceb0fc4900"
      },
      "source": [
        "#Ordenando os dados pela em ordem alfabetica pela unidade da federação\n",
        "dados_casos_hep_A_uso = dados_casos_hep_A_uso.sort_values('Unidade da Federação', ascending = True)\n",
        "dados_casos_hep_A_uso.head()"
      ],
      "execution_count": 86,
      "outputs": [
        {
          "output_type": "execute_result",
          "data": {
            "text/html": [
              "<div>\n",
              "<style scoped>\n",
              "    .dataframe tbody tr th:only-of-type {\n",
              "        vertical-align: middle;\n",
              "    }\n",
              "\n",
              "    .dataframe tbody tr th {\n",
              "        vertical-align: top;\n",
              "    }\n",
              "\n",
              "    .dataframe thead th {\n",
              "        text-align: right;\n",
              "    }\n",
              "</style>\n",
              "<table border=\"1\" class=\"dataframe\">\n",
              "  <thead>\n",
              "    <tr style=\"text-align: right;\">\n",
              "      <th></th>\n",
              "      <th>2007</th>\n",
              "      <th>2008</th>\n",
              "      <th>2009</th>\n",
              "      <th>2010</th>\n",
              "      <th>2011</th>\n",
              "      <th>2012</th>\n",
              "      <th>2013</th>\n",
              "      <th>2014</th>\n",
              "      <th>2015</th>\n",
              "      <th>2016</th>\n",
              "      <th>2017</th>\n",
              "      <th>2018</th>\n",
              "      <th>2019</th>\n",
              "    </tr>\n",
              "    <tr>\n",
              "      <th>Unidade da Federação</th>\n",
              "      <th></th>\n",
              "      <th></th>\n",
              "      <th></th>\n",
              "      <th></th>\n",
              "      <th></th>\n",
              "      <th></th>\n",
              "      <th></th>\n",
              "      <th></th>\n",
              "      <th></th>\n",
              "      <th></th>\n",
              "      <th></th>\n",
              "      <th></th>\n",
              "      <th></th>\n",
              "    </tr>\n",
              "  </thead>\n",
              "  <tbody>\n",
              "    <tr>\n",
              "      <th>Acre</th>\n",
              "      <td>224</td>\n",
              "      <td>111</td>\n",
              "      <td>74</td>\n",
              "      <td>108</td>\n",
              "      <td>402</td>\n",
              "      <td>641</td>\n",
              "      <td>304</td>\n",
              "      <td>190</td>\n",
              "      <td>96</td>\n",
              "      <td>62</td>\n",
              "      <td>39</td>\n",
              "      <td>14</td>\n",
              "      <td>12</td>\n",
              "    </tr>\n",
              "    <tr>\n",
              "      <th>Alagoas</th>\n",
              "      <td>233</td>\n",
              "      <td>390</td>\n",
              "      <td>292</td>\n",
              "      <td>230</td>\n",
              "      <td>337</td>\n",
              "      <td>148</td>\n",
              "      <td>203</td>\n",
              "      <td>143</td>\n",
              "      <td>109</td>\n",
              "      <td>45</td>\n",
              "      <td>25</td>\n",
              "      <td>8</td>\n",
              "      <td>6</td>\n",
              "    </tr>\n",
              "    <tr>\n",
              "      <th>Amapá</th>\n",
              "      <td>121</td>\n",
              "      <td>171</td>\n",
              "      <td>168</td>\n",
              "      <td>252</td>\n",
              "      <td>340</td>\n",
              "      <td>224</td>\n",
              "      <td>91</td>\n",
              "      <td>376</td>\n",
              "      <td>210</td>\n",
              "      <td>44</td>\n",
              "      <td>37</td>\n",
              "      <td>17</td>\n",
              "      <td>3</td>\n",
              "    </tr>\n",
              "    <tr>\n",
              "      <th>Amazonas</th>\n",
              "      <td>519</td>\n",
              "      <td>780</td>\n",
              "      <td>956</td>\n",
              "      <td>708</td>\n",
              "      <td>795</td>\n",
              "      <td>521</td>\n",
              "      <td>660</td>\n",
              "      <td>940</td>\n",
              "      <td>402</td>\n",
              "      <td>69</td>\n",
              "      <td>56</td>\n",
              "      <td>59</td>\n",
              "      <td>29</td>\n",
              "    </tr>\n",
              "    <tr>\n",
              "      <th>Bahia</th>\n",
              "      <td>764</td>\n",
              "      <td>593</td>\n",
              "      <td>848</td>\n",
              "      <td>411</td>\n",
              "      <td>316</td>\n",
              "      <td>191</td>\n",
              "      <td>345</td>\n",
              "      <td>476</td>\n",
              "      <td>128</td>\n",
              "      <td>60</td>\n",
              "      <td>55</td>\n",
              "      <td>40</td>\n",
              "      <td>14</td>\n",
              "    </tr>\n",
              "  </tbody>\n",
              "</table>\n",
              "</div>"
            ],
            "text/plain": [
              "                      2007  2008  2009  2010  ...  2016  2017  2018  2019\n",
              "Unidade da Federação                          ...                        \n",
              "Acre                   224   111    74   108  ...    62    39    14    12\n",
              "Alagoas                233   390   292   230  ...    45    25     8     6\n",
              "Amapá                  121   171   168   252  ...    44    37    17     3\n",
              "Amazonas               519   780   956   708  ...    69    56    59    29\n",
              "Bahia                  764   593   848   411  ...    60    55    40    14\n",
              "\n",
              "[5 rows x 13 columns]"
            ]
          },
          "metadata": {
            "tags": []
          },
          "execution_count": 86
        }
      ]
    },
    {
      "cell_type": "code",
      "metadata": {
        "id": "VZ8EwTeqTRAy",
        "colab": {
          "base_uri": "https://localhost:8080/",
          "height": 235
        },
        "outputId": "b5a8769c-676b-407a-e4e5-2c536b3c455a"
      },
      "source": [
        "#criando nova coluna com a Região a que cada estado pertence\n",
        "dados_casos_hep_A_uso['Região'] = dados_vacina_hep_A[\"Região\"]\n",
        "dados_casos_hep_A_uso.head()"
      ],
      "execution_count": 87,
      "outputs": [
        {
          "output_type": "execute_result",
          "data": {
            "text/html": [
              "<div>\n",
              "<style scoped>\n",
              "    .dataframe tbody tr th:only-of-type {\n",
              "        vertical-align: middle;\n",
              "    }\n",
              "\n",
              "    .dataframe tbody tr th {\n",
              "        vertical-align: top;\n",
              "    }\n",
              "\n",
              "    .dataframe thead th {\n",
              "        text-align: right;\n",
              "    }\n",
              "</style>\n",
              "<table border=\"1\" class=\"dataframe\">\n",
              "  <thead>\n",
              "    <tr style=\"text-align: right;\">\n",
              "      <th></th>\n",
              "      <th>2007</th>\n",
              "      <th>2008</th>\n",
              "      <th>2009</th>\n",
              "      <th>2010</th>\n",
              "      <th>2011</th>\n",
              "      <th>2012</th>\n",
              "      <th>2013</th>\n",
              "      <th>2014</th>\n",
              "      <th>2015</th>\n",
              "      <th>2016</th>\n",
              "      <th>2017</th>\n",
              "      <th>2018</th>\n",
              "      <th>2019</th>\n",
              "      <th>Região</th>\n",
              "    </tr>\n",
              "    <tr>\n",
              "      <th>Unidade da Federação</th>\n",
              "      <th></th>\n",
              "      <th></th>\n",
              "      <th></th>\n",
              "      <th></th>\n",
              "      <th></th>\n",
              "      <th></th>\n",
              "      <th></th>\n",
              "      <th></th>\n",
              "      <th></th>\n",
              "      <th></th>\n",
              "      <th></th>\n",
              "      <th></th>\n",
              "      <th></th>\n",
              "      <th></th>\n",
              "    </tr>\n",
              "  </thead>\n",
              "  <tbody>\n",
              "    <tr>\n",
              "      <th>Acre</th>\n",
              "      <td>224</td>\n",
              "      <td>111</td>\n",
              "      <td>74</td>\n",
              "      <td>108</td>\n",
              "      <td>402</td>\n",
              "      <td>641</td>\n",
              "      <td>304</td>\n",
              "      <td>190</td>\n",
              "      <td>96</td>\n",
              "      <td>62</td>\n",
              "      <td>39</td>\n",
              "      <td>14</td>\n",
              "      <td>12</td>\n",
              "      <td>Norte</td>\n",
              "    </tr>\n",
              "    <tr>\n",
              "      <th>Alagoas</th>\n",
              "      <td>233</td>\n",
              "      <td>390</td>\n",
              "      <td>292</td>\n",
              "      <td>230</td>\n",
              "      <td>337</td>\n",
              "      <td>148</td>\n",
              "      <td>203</td>\n",
              "      <td>143</td>\n",
              "      <td>109</td>\n",
              "      <td>45</td>\n",
              "      <td>25</td>\n",
              "      <td>8</td>\n",
              "      <td>6</td>\n",
              "      <td>Nordeste</td>\n",
              "    </tr>\n",
              "    <tr>\n",
              "      <th>Amapá</th>\n",
              "      <td>121</td>\n",
              "      <td>171</td>\n",
              "      <td>168</td>\n",
              "      <td>252</td>\n",
              "      <td>340</td>\n",
              "      <td>224</td>\n",
              "      <td>91</td>\n",
              "      <td>376</td>\n",
              "      <td>210</td>\n",
              "      <td>44</td>\n",
              "      <td>37</td>\n",
              "      <td>17</td>\n",
              "      <td>3</td>\n",
              "      <td>Norte</td>\n",
              "    </tr>\n",
              "    <tr>\n",
              "      <th>Amazonas</th>\n",
              "      <td>519</td>\n",
              "      <td>780</td>\n",
              "      <td>956</td>\n",
              "      <td>708</td>\n",
              "      <td>795</td>\n",
              "      <td>521</td>\n",
              "      <td>660</td>\n",
              "      <td>940</td>\n",
              "      <td>402</td>\n",
              "      <td>69</td>\n",
              "      <td>56</td>\n",
              "      <td>59</td>\n",
              "      <td>29</td>\n",
              "      <td>Norte</td>\n",
              "    </tr>\n",
              "    <tr>\n",
              "      <th>Bahia</th>\n",
              "      <td>764</td>\n",
              "      <td>593</td>\n",
              "      <td>848</td>\n",
              "      <td>411</td>\n",
              "      <td>316</td>\n",
              "      <td>191</td>\n",
              "      <td>345</td>\n",
              "      <td>476</td>\n",
              "      <td>128</td>\n",
              "      <td>60</td>\n",
              "      <td>55</td>\n",
              "      <td>40</td>\n",
              "      <td>14</td>\n",
              "      <td>Nordeste</td>\n",
              "    </tr>\n",
              "  </tbody>\n",
              "</table>\n",
              "</div>"
            ],
            "text/plain": [
              "                      2007  2008  2009  2010  ...  2017  2018  2019    Região\n",
              "Unidade da Federação                          ...                            \n",
              "Acre                   224   111    74   108  ...    39    14    12     Norte\n",
              "Alagoas                233   390   292   230  ...    25     8     6  Nordeste\n",
              "Amapá                  121   171   168   252  ...    37    17     3     Norte\n",
              "Amazonas               519   780   956   708  ...    56    59    29     Norte\n",
              "Bahia                  764   593   848   411  ...    55    40    14  Nordeste\n",
              "\n",
              "[5 rows x 14 columns]"
            ]
          },
          "metadata": {
            "tags": []
          },
          "execution_count": 87
        }
      ]
    },
    {
      "cell_type": "code",
      "metadata": {
        "id": "BJzsijQ8UQ2-",
        "colab": {
          "base_uri": "https://localhost:8080/",
          "height": 235
        },
        "outputId": "43a92637-ad3b-4db9-a5f5-2fd175482040"
      },
      "source": [
        "#selecionando apenas os dados de 2014 a 2019\n",
        "dados_casos_hep_A_uso_selc = dados_casos_hep_A_uso[[2014, 2015, 2016, 2017, 2018, 2019, \"Região\"]]\n",
        "dados_casos_hep_A_uso_selc.head()"
      ],
      "execution_count": 88,
      "outputs": [
        {
          "output_type": "execute_result",
          "data": {
            "text/html": [
              "<div>\n",
              "<style scoped>\n",
              "    .dataframe tbody tr th:only-of-type {\n",
              "        vertical-align: middle;\n",
              "    }\n",
              "\n",
              "    .dataframe tbody tr th {\n",
              "        vertical-align: top;\n",
              "    }\n",
              "\n",
              "    .dataframe thead th {\n",
              "        text-align: right;\n",
              "    }\n",
              "</style>\n",
              "<table border=\"1\" class=\"dataframe\">\n",
              "  <thead>\n",
              "    <tr style=\"text-align: right;\">\n",
              "      <th></th>\n",
              "      <th>2014</th>\n",
              "      <th>2015</th>\n",
              "      <th>2016</th>\n",
              "      <th>2017</th>\n",
              "      <th>2018</th>\n",
              "      <th>2019</th>\n",
              "      <th>Região</th>\n",
              "    </tr>\n",
              "    <tr>\n",
              "      <th>Unidade da Federação</th>\n",
              "      <th></th>\n",
              "      <th></th>\n",
              "      <th></th>\n",
              "      <th></th>\n",
              "      <th></th>\n",
              "      <th></th>\n",
              "      <th></th>\n",
              "    </tr>\n",
              "  </thead>\n",
              "  <tbody>\n",
              "    <tr>\n",
              "      <th>Acre</th>\n",
              "      <td>190</td>\n",
              "      <td>96</td>\n",
              "      <td>62</td>\n",
              "      <td>39</td>\n",
              "      <td>14</td>\n",
              "      <td>12</td>\n",
              "      <td>Norte</td>\n",
              "    </tr>\n",
              "    <tr>\n",
              "      <th>Alagoas</th>\n",
              "      <td>143</td>\n",
              "      <td>109</td>\n",
              "      <td>45</td>\n",
              "      <td>25</td>\n",
              "      <td>8</td>\n",
              "      <td>6</td>\n",
              "      <td>Nordeste</td>\n",
              "    </tr>\n",
              "    <tr>\n",
              "      <th>Amapá</th>\n",
              "      <td>376</td>\n",
              "      <td>210</td>\n",
              "      <td>44</td>\n",
              "      <td>37</td>\n",
              "      <td>17</td>\n",
              "      <td>3</td>\n",
              "      <td>Norte</td>\n",
              "    </tr>\n",
              "    <tr>\n",
              "      <th>Amazonas</th>\n",
              "      <td>940</td>\n",
              "      <td>402</td>\n",
              "      <td>69</td>\n",
              "      <td>56</td>\n",
              "      <td>59</td>\n",
              "      <td>29</td>\n",
              "      <td>Norte</td>\n",
              "    </tr>\n",
              "    <tr>\n",
              "      <th>Bahia</th>\n",
              "      <td>476</td>\n",
              "      <td>128</td>\n",
              "      <td>60</td>\n",
              "      <td>55</td>\n",
              "      <td>40</td>\n",
              "      <td>14</td>\n",
              "      <td>Nordeste</td>\n",
              "    </tr>\n",
              "  </tbody>\n",
              "</table>\n",
              "</div>"
            ],
            "text/plain": [
              "                      2014  2015  2016  2017  2018  2019    Região\n",
              "Unidade da Federação                                              \n",
              "Acre                   190    96    62    39    14    12     Norte\n",
              "Alagoas                143   109    45    25     8     6  Nordeste\n",
              "Amapá                  376   210    44    37    17     3     Norte\n",
              "Amazonas               940   402    69    56    59    29     Norte\n",
              "Bahia                  476   128    60    55    40    14  Nordeste"
            ]
          },
          "metadata": {
            "tags": []
          },
          "execution_count": 88
        }
      ]
    },
    {
      "cell_type": "code",
      "metadata": {
        "id": "j9trxZM0VBwO",
        "colab": {
          "base_uri": "https://localhost:8080/",
          "height": 337
        },
        "outputId": "d70c6933-4bda-48c5-a730-dd575d1d3c8d"
      },
      "source": [
        "#criando uma nova coluna Total\n",
        "dados_casos_hep_A_uso_selc[\"Total\"] = dados_casos_hep_A_uso_selc[[2014, 2015, 2016, 2017, 2018, 2019]].sum(1)\n",
        "dados_casos_hep_A_uso_selc.head()"
      ],
      "execution_count": 89,
      "outputs": [
        {
          "output_type": "stream",
          "text": [
            "/usr/local/lib/python3.7/dist-packages/ipykernel_launcher.py:2: SettingWithCopyWarning: \n",
            "A value is trying to be set on a copy of a slice from a DataFrame.\n",
            "Try using .loc[row_indexer,col_indexer] = value instead\n",
            "\n",
            "See the caveats in the documentation: https://pandas.pydata.org/pandas-docs/stable/user_guide/indexing.html#returning-a-view-versus-a-copy\n",
            "  \n"
          ],
          "name": "stderr"
        },
        {
          "output_type": "execute_result",
          "data": {
            "text/html": [
              "<div>\n",
              "<style scoped>\n",
              "    .dataframe tbody tr th:only-of-type {\n",
              "        vertical-align: middle;\n",
              "    }\n",
              "\n",
              "    .dataframe tbody tr th {\n",
              "        vertical-align: top;\n",
              "    }\n",
              "\n",
              "    .dataframe thead th {\n",
              "        text-align: right;\n",
              "    }\n",
              "</style>\n",
              "<table border=\"1\" class=\"dataframe\">\n",
              "  <thead>\n",
              "    <tr style=\"text-align: right;\">\n",
              "      <th></th>\n",
              "      <th>2014</th>\n",
              "      <th>2015</th>\n",
              "      <th>2016</th>\n",
              "      <th>2017</th>\n",
              "      <th>2018</th>\n",
              "      <th>2019</th>\n",
              "      <th>Região</th>\n",
              "      <th>Total</th>\n",
              "    </tr>\n",
              "    <tr>\n",
              "      <th>Unidade da Federação</th>\n",
              "      <th></th>\n",
              "      <th></th>\n",
              "      <th></th>\n",
              "      <th></th>\n",
              "      <th></th>\n",
              "      <th></th>\n",
              "      <th></th>\n",
              "      <th></th>\n",
              "    </tr>\n",
              "  </thead>\n",
              "  <tbody>\n",
              "    <tr>\n",
              "      <th>Acre</th>\n",
              "      <td>190</td>\n",
              "      <td>96</td>\n",
              "      <td>62</td>\n",
              "      <td>39</td>\n",
              "      <td>14</td>\n",
              "      <td>12</td>\n",
              "      <td>Norte</td>\n",
              "      <td>413</td>\n",
              "    </tr>\n",
              "    <tr>\n",
              "      <th>Alagoas</th>\n",
              "      <td>143</td>\n",
              "      <td>109</td>\n",
              "      <td>45</td>\n",
              "      <td>25</td>\n",
              "      <td>8</td>\n",
              "      <td>6</td>\n",
              "      <td>Nordeste</td>\n",
              "      <td>336</td>\n",
              "    </tr>\n",
              "    <tr>\n",
              "      <th>Amapá</th>\n",
              "      <td>376</td>\n",
              "      <td>210</td>\n",
              "      <td>44</td>\n",
              "      <td>37</td>\n",
              "      <td>17</td>\n",
              "      <td>3</td>\n",
              "      <td>Norte</td>\n",
              "      <td>687</td>\n",
              "    </tr>\n",
              "    <tr>\n",
              "      <th>Amazonas</th>\n",
              "      <td>940</td>\n",
              "      <td>402</td>\n",
              "      <td>69</td>\n",
              "      <td>56</td>\n",
              "      <td>59</td>\n",
              "      <td>29</td>\n",
              "      <td>Norte</td>\n",
              "      <td>1555</td>\n",
              "    </tr>\n",
              "    <tr>\n",
              "      <th>Bahia</th>\n",
              "      <td>476</td>\n",
              "      <td>128</td>\n",
              "      <td>60</td>\n",
              "      <td>55</td>\n",
              "      <td>40</td>\n",
              "      <td>14</td>\n",
              "      <td>Nordeste</td>\n",
              "      <td>773</td>\n",
              "    </tr>\n",
              "  </tbody>\n",
              "</table>\n",
              "</div>"
            ],
            "text/plain": [
              "                      2014  2015  2016  2017  2018  2019    Região  Total\n",
              "Unidade da Federação                                                     \n",
              "Acre                   190    96    62    39    14    12     Norte    413\n",
              "Alagoas                143   109    45    25     8     6  Nordeste    336\n",
              "Amapá                  376   210    44    37    17     3     Norte    687\n",
              "Amazonas               940   402    69    56    59    29     Norte   1555\n",
              "Bahia                  476   128    60    55    40    14  Nordeste    773"
            ]
          },
          "metadata": {
            "tags": []
          },
          "execution_count": 89
        }
      ]
    },
    {
      "cell_type": "markdown",
      "metadata": {
        "id": "FPbRbdQTaIXm"
      },
      "source": [
        "#### Proporção por cem mil habitantes"
      ]
    },
    {
      "cell_type": "code",
      "metadata": {
        "id": "_D0cidTldp0j",
        "colab": {
          "base_uri": "https://localhost:8080/"
        },
        "outputId": "fdc69b26-14ca-4bae-8ba1-36e5a57da90e"
      },
      "source": [
        "dados_casos_hep_A_uso_selc.index"
      ],
      "execution_count": 90,
      "outputs": [
        {
          "output_type": "execute_result",
          "data": {
            "text/plain": [
              "Index(['Acre', 'Alagoas', 'Amapá', 'Amazonas', 'Bahia', 'Ceará',\n",
              "       'Distrito Federal', 'Espírito Santo', 'Goiás', 'Maranhão',\n",
              "       'Mato Grosso', 'Mato Grosso do Sul', 'Minas Gerais', 'Paraná',\n",
              "       'Paraíba', 'Pará', 'Pernambuco', 'Piauí', 'Rio Grande do Norte',\n",
              "       'Rio Grande do Sul', 'Rio de Janeiro', 'Rondônia', 'Roraima',\n",
              "       'Santa Catarina', 'Sergipe', 'São Paulo', 'Tocantins'],\n",
              "      dtype='object', name='Unidade da Federação')"
            ]
          },
          "metadata": {
            "tags": []
          },
          "execution_count": 90
        }
      ]
    },
    {
      "cell_type": "code",
      "metadata": {
        "id": "e79Gk7Wnr-nA"
      },
      "source": [
        "# criando uma lista com a população de cada UF\n",
        "UF_habitantes = [4064052, 2318822, 3534165, 3055149, 3281480, 2809394, 7113540, 9187103, 1796460, 631181, 3351543, 7252502, 4039277, 11516840, 894470, 7114598, 11422973, 3526220, 1590248, 9616621, 861773, 21292666, 14930634, 8690745, 17366189, 4207714, 46289333]"
      ],
      "execution_count": 91,
      "outputs": []
    },
    {
      "cell_type": "code",
      "metadata": {
        "id": "36_Sjeo8uvj1",
        "colab": {
          "base_uri": "https://localhost:8080/",
          "height": 337
        },
        "outputId": "04c600f5-3845-4525-a306-06760212ea77"
      },
      "source": [
        "# criando uma nova coluna com o número de habitantes de cada UF\n",
        "dados_casos_hep_A_uso_selc['Habitantes'] = UF_habitantes\n",
        "dados_casos_hep_A_uso_selc.head()"
      ],
      "execution_count": 92,
      "outputs": [
        {
          "output_type": "stream",
          "text": [
            "/usr/local/lib/python3.7/dist-packages/ipykernel_launcher.py:2: SettingWithCopyWarning: \n",
            "A value is trying to be set on a copy of a slice from a DataFrame.\n",
            "Try using .loc[row_indexer,col_indexer] = value instead\n",
            "\n",
            "See the caveats in the documentation: https://pandas.pydata.org/pandas-docs/stable/user_guide/indexing.html#returning-a-view-versus-a-copy\n",
            "  \n"
          ],
          "name": "stderr"
        },
        {
          "output_type": "execute_result",
          "data": {
            "text/html": [
              "<div>\n",
              "<style scoped>\n",
              "    .dataframe tbody tr th:only-of-type {\n",
              "        vertical-align: middle;\n",
              "    }\n",
              "\n",
              "    .dataframe tbody tr th {\n",
              "        vertical-align: top;\n",
              "    }\n",
              "\n",
              "    .dataframe thead th {\n",
              "        text-align: right;\n",
              "    }\n",
              "</style>\n",
              "<table border=\"1\" class=\"dataframe\">\n",
              "  <thead>\n",
              "    <tr style=\"text-align: right;\">\n",
              "      <th></th>\n",
              "      <th>2014</th>\n",
              "      <th>2015</th>\n",
              "      <th>2016</th>\n",
              "      <th>2017</th>\n",
              "      <th>2018</th>\n",
              "      <th>2019</th>\n",
              "      <th>Região</th>\n",
              "      <th>Total</th>\n",
              "      <th>Habitantes</th>\n",
              "    </tr>\n",
              "    <tr>\n",
              "      <th>Unidade da Federação</th>\n",
              "      <th></th>\n",
              "      <th></th>\n",
              "      <th></th>\n",
              "      <th></th>\n",
              "      <th></th>\n",
              "      <th></th>\n",
              "      <th></th>\n",
              "      <th></th>\n",
              "      <th></th>\n",
              "    </tr>\n",
              "  </thead>\n",
              "  <tbody>\n",
              "    <tr>\n",
              "      <th>Acre</th>\n",
              "      <td>190</td>\n",
              "      <td>96</td>\n",
              "      <td>62</td>\n",
              "      <td>39</td>\n",
              "      <td>14</td>\n",
              "      <td>12</td>\n",
              "      <td>Norte</td>\n",
              "      <td>413</td>\n",
              "      <td>4064052</td>\n",
              "    </tr>\n",
              "    <tr>\n",
              "      <th>Alagoas</th>\n",
              "      <td>143</td>\n",
              "      <td>109</td>\n",
              "      <td>45</td>\n",
              "      <td>25</td>\n",
              "      <td>8</td>\n",
              "      <td>6</td>\n",
              "      <td>Nordeste</td>\n",
              "      <td>336</td>\n",
              "      <td>2318822</td>\n",
              "    </tr>\n",
              "    <tr>\n",
              "      <th>Amapá</th>\n",
              "      <td>376</td>\n",
              "      <td>210</td>\n",
              "      <td>44</td>\n",
              "      <td>37</td>\n",
              "      <td>17</td>\n",
              "      <td>3</td>\n",
              "      <td>Norte</td>\n",
              "      <td>687</td>\n",
              "      <td>3534165</td>\n",
              "    </tr>\n",
              "    <tr>\n",
              "      <th>Amazonas</th>\n",
              "      <td>940</td>\n",
              "      <td>402</td>\n",
              "      <td>69</td>\n",
              "      <td>56</td>\n",
              "      <td>59</td>\n",
              "      <td>29</td>\n",
              "      <td>Norte</td>\n",
              "      <td>1555</td>\n",
              "      <td>3055149</td>\n",
              "    </tr>\n",
              "    <tr>\n",
              "      <th>Bahia</th>\n",
              "      <td>476</td>\n",
              "      <td>128</td>\n",
              "      <td>60</td>\n",
              "      <td>55</td>\n",
              "      <td>40</td>\n",
              "      <td>14</td>\n",
              "      <td>Nordeste</td>\n",
              "      <td>773</td>\n",
              "      <td>3281480</td>\n",
              "    </tr>\n",
              "  </tbody>\n",
              "</table>\n",
              "</div>"
            ],
            "text/plain": [
              "                      2014  2015  2016  2017  ...  2019    Região Total  Habitantes\n",
              "Unidade da Federação                          ...                                  \n",
              "Acre                   190    96    62    39  ...    12     Norte   413     4064052\n",
              "Alagoas                143   109    45    25  ...     6  Nordeste   336     2318822\n",
              "Amapá                  376   210    44    37  ...     3     Norte   687     3534165\n",
              "Amazonas               940   402    69    56  ...    29     Norte  1555     3055149\n",
              "Bahia                  476   128    60    55  ...    14  Nordeste   773     3281480\n",
              "\n",
              "[5 rows x 9 columns]"
            ]
          },
          "metadata": {
            "tags": []
          },
          "execution_count": 92
        }
      ]
    },
    {
      "cell_type": "code",
      "metadata": {
        "id": "_ILQMR53wP32"
      },
      "source": [
        "#transformando os números de caso de hepatite A em nº de casos por milhão de habitantes.\n",
        "casos_por_milhao = (dados_casos_hep_A_uso_selc[\"Total\"] * 100000) / dados_casos_hep_A_uso_selc[\"Habitantes\"]"
      ],
      "execution_count": 93,
      "outputs": []
    },
    {
      "cell_type": "code",
      "metadata": {
        "id": "rt9VRnlKwb2M",
        "colab": {
          "base_uri": "https://localhost:8080/",
          "height": 337
        },
        "outputId": "60173e3b-5aa4-49b1-a8d6-c175e974a000"
      },
      "source": [
        "#criando uma nova coluna com o n° de casos por milhão\n",
        "dados_casos_hep_A_uso_selc[\"Casos por cem mil habitantes\"] = casos_por_milhao\n",
        "dados_casos_hep_A_uso_selc.head()"
      ],
      "execution_count": 94,
      "outputs": [
        {
          "output_type": "stream",
          "text": [
            "/usr/local/lib/python3.7/dist-packages/ipykernel_launcher.py:2: SettingWithCopyWarning: \n",
            "A value is trying to be set on a copy of a slice from a DataFrame.\n",
            "Try using .loc[row_indexer,col_indexer] = value instead\n",
            "\n",
            "See the caveats in the documentation: https://pandas.pydata.org/pandas-docs/stable/user_guide/indexing.html#returning-a-view-versus-a-copy\n",
            "  \n"
          ],
          "name": "stderr"
        },
        {
          "output_type": "execute_result",
          "data": {
            "text/html": [
              "<div>\n",
              "<style scoped>\n",
              "    .dataframe tbody tr th:only-of-type {\n",
              "        vertical-align: middle;\n",
              "    }\n",
              "\n",
              "    .dataframe tbody tr th {\n",
              "        vertical-align: top;\n",
              "    }\n",
              "\n",
              "    .dataframe thead th {\n",
              "        text-align: right;\n",
              "    }\n",
              "</style>\n",
              "<table border=\"1\" class=\"dataframe\">\n",
              "  <thead>\n",
              "    <tr style=\"text-align: right;\">\n",
              "      <th></th>\n",
              "      <th>2014</th>\n",
              "      <th>2015</th>\n",
              "      <th>2016</th>\n",
              "      <th>2017</th>\n",
              "      <th>2018</th>\n",
              "      <th>2019</th>\n",
              "      <th>Região</th>\n",
              "      <th>Total</th>\n",
              "      <th>Habitantes</th>\n",
              "      <th>Casos por cem mil habitantes</th>\n",
              "    </tr>\n",
              "    <tr>\n",
              "      <th>Unidade da Federação</th>\n",
              "      <th></th>\n",
              "      <th></th>\n",
              "      <th></th>\n",
              "      <th></th>\n",
              "      <th></th>\n",
              "      <th></th>\n",
              "      <th></th>\n",
              "      <th></th>\n",
              "      <th></th>\n",
              "      <th></th>\n",
              "    </tr>\n",
              "  </thead>\n",
              "  <tbody>\n",
              "    <tr>\n",
              "      <th>Acre</th>\n",
              "      <td>190</td>\n",
              "      <td>96</td>\n",
              "      <td>62</td>\n",
              "      <td>39</td>\n",
              "      <td>14</td>\n",
              "      <td>12</td>\n",
              "      <td>Norte</td>\n",
              "      <td>413</td>\n",
              "      <td>4064052</td>\n",
              "      <td>10.16</td>\n",
              "    </tr>\n",
              "    <tr>\n",
              "      <th>Alagoas</th>\n",
              "      <td>143</td>\n",
              "      <td>109</td>\n",
              "      <td>45</td>\n",
              "      <td>25</td>\n",
              "      <td>8</td>\n",
              "      <td>6</td>\n",
              "      <td>Nordeste</td>\n",
              "      <td>336</td>\n",
              "      <td>2318822</td>\n",
              "      <td>14.49</td>\n",
              "    </tr>\n",
              "    <tr>\n",
              "      <th>Amapá</th>\n",
              "      <td>376</td>\n",
              "      <td>210</td>\n",
              "      <td>44</td>\n",
              "      <td>37</td>\n",
              "      <td>17</td>\n",
              "      <td>3</td>\n",
              "      <td>Norte</td>\n",
              "      <td>687</td>\n",
              "      <td>3534165</td>\n",
              "      <td>19.44</td>\n",
              "    </tr>\n",
              "    <tr>\n",
              "      <th>Amazonas</th>\n",
              "      <td>940</td>\n",
              "      <td>402</td>\n",
              "      <td>69</td>\n",
              "      <td>56</td>\n",
              "      <td>59</td>\n",
              "      <td>29</td>\n",
              "      <td>Norte</td>\n",
              "      <td>1555</td>\n",
              "      <td>3055149</td>\n",
              "      <td>50.90</td>\n",
              "    </tr>\n",
              "    <tr>\n",
              "      <th>Bahia</th>\n",
              "      <td>476</td>\n",
              "      <td>128</td>\n",
              "      <td>60</td>\n",
              "      <td>55</td>\n",
              "      <td>40</td>\n",
              "      <td>14</td>\n",
              "      <td>Nordeste</td>\n",
              "      <td>773</td>\n",
              "      <td>3281480</td>\n",
              "      <td>23.56</td>\n",
              "    </tr>\n",
              "  </tbody>\n",
              "</table>\n",
              "</div>"
            ],
            "text/plain": [
              "                      2014  2015  ...  Habitantes  Casos por cem mil habitantes\n",
              "Unidade da Federação              ...                                          \n",
              "Acre                   190    96  ...     4064052                         10.16\n",
              "Alagoas                143   109  ...     2318822                         14.49\n",
              "Amapá                  376   210  ...     3534165                         19.44\n",
              "Amazonas               940   402  ...     3055149                         50.90\n",
              "Bahia                  476   128  ...     3281480                         23.56\n",
              "\n",
              "[5 rows x 10 columns]"
            ]
          },
          "metadata": {
            "tags": []
          },
          "execution_count": 94
        }
      ]
    },
    {
      "cell_type": "code",
      "metadata": {
        "id": "Ef95quiHzITQ",
        "colab": {
          "base_uri": "https://localhost:8080/",
          "height": 726
        },
        "outputId": "30cd34fd-b2c3-47dd-affa-4bc8b71d4ac4"
      },
      "source": [
        "#ordenando os dados pelo total\n",
        "dados_casos_hep_A_uso_selc = dados_casos_hep_A_uso_selc.sort_values('Casos por cem mil habitantes', ascending = True)\n",
        "\n",
        "#CriANdo a figura\n",
        "plt.figure(figsize=(14,10))\n",
        "plt.suptitle(\"Número de casos de Hepatite A por Unidade da Federação - 2014 a 2019\", fontsize = 16, fontweight = \"bold\")\n",
        "\n",
        "#Gráfico 1 - número total de casos\n",
        "#criando a vizualização dos dados de número de casos total\n",
        "ax = plt.subplot(1,2,1)\n",
        "plt.barh(dados_casos_hep_A_uso_selc.index, dados_casos_hep_A_uso_selc[\"Total\"], height = 0.5, color = \"brown\")\n",
        "\n",
        "plt.title(\"Número Total de Casos\", fontsize = 15, fontweight = \"bold\") #título\n",
        "plt.xlabel(\"Casos\",fontsize = 14, fontweight = \"bold\") #título eixo x\n",
        "plt.ylabel(\"Unidade da Federação\",fontsize = 14, fontweight = \"bold\") #título eixo y\n",
        "\n",
        "plt.tick_params(axis=\"x\", labelsize=12) #modifica o tamanho do tick em x\n",
        "plt.tick_params(axis=\"y\", labelsize=12) #modifica o tamanho do tick em y\n",
        "\n",
        "plt.grid(True, color='brown', alpha=0.5, linestyle='dashed', linewidth=0.5)\n",
        "\n",
        "plt.xlim(0,dados_casos_hep_A_uso_selc[\"Total\"].max()*1.12) #aumentando o limite do eixo x para caber o valor de cada barra sem sobrepor o eixo\n",
        "\n",
        "#rotina para adicionar o número em frente cada barra\n",
        "for index, value in enumerate(dados_casos_hep_A_uso_selc[\"Total\"].round(2)):\n",
        "  plt.text(value, index, str(value), color='black', fontweight=\"bold\", fontsize=12, verticalalignment='center')\n",
        "\n",
        "\n",
        "#ordenando os dados pelo total\n",
        "dados_casos_hep_A_uso_selc = dados_casos_hep_A_uso_selc.sort_values('Casos por cem mil habitantes', ascending = True)\n",
        "\n",
        "#Gráfico 2 - número de casos proporcional ao número de habitantes\n",
        "#criando a vizualização dos dados de número de casos por cem mil habitantes\n",
        "ax = plt.subplot(1,2,2)\n",
        "plt.barh(dados_casos_hep_A_uso_selc.index, dados_casos_hep_A_uso_selc[\"Casos por cem mil habitantes\"], height = 0.5, color = \"brown\")\n",
        "\n",
        "plt.title(\"Número de casos \\n por cem mil habitantes\", fontsize = 15, fontweight = \"bold\") #título\n",
        "plt.xlabel(\"Casos por cem mil habitantes\",fontsize = 14, fontweight = \"bold\") #título eixo x\n",
        "plt.ylabel(\"Unidade da Federação\",fontsize = 14, fontweight = \"bold\") #título eixo y\n",
        "\n",
        "plt.tick_params(axis=\"x\", labelsize=12) #modifica o tamanho do tick em x\n",
        "plt.tick_params(axis=\"y\", labelsize=12) #modifica o tamanho do tick em y\n",
        "\n",
        "plt.grid(True, color='brown', alpha=0.5, linestyle='dashed', linewidth=0.5)\n",
        "\n",
        "plt.xlim(0,dados_casos_hep_A_uso_selc[\"Casos por cem mil habitantes\"].max()*1.2) #aumentando o limite do eixo x para caber o valor de cada barra sem sobrepor o eixo\n",
        "\n",
        "#rotina para adicionar o número em frente cada barra\n",
        "for index, value in enumerate(dados_casos_hep_A_uso_selc[\"Casos por cem mil habitantes\"].round(2)):\n",
        "  plt.text(value, index, str(value), color='black', fontweight=\"bold\", fontsize=12, verticalalignment='center')\n",
        "\n",
        "plt.tight_layout()\n",
        "plt.subplots_adjust(top=0.90)\n",
        "plt.show()"
      ],
      "execution_count": 95,
      "outputs": [
        {
          "output_type": "display_data",
          "data": {
            "image/png": "[encoded data removed]",
            "text/plain": [
              "<Figure size 1008x720 with 2 Axes>"
            ]
          },
          "metadata": {
            "tags": [],
            "needs_background": "light"
          }
        }
      ]
    },
    {
      "cell_type": "markdown",
      "metadata": {
        "id": "gVnD7m61qh-3"
      },
      "source": [
        "#### Observações\n",
        "\n",
        "O segundo gráfico apresenta os dados de número de casos proporcionais ao número de habitantes. Essa relação de proporcionalidade nos permite visualizar de forma mais precisa as UF's que apresentam maior número de casos, destacando então Rio de Janeiro, Maranhão e São Paulo.\n",
        "\n",
        "Esses dados serão importantes para avaliarmos a incidência de casos em cada região."
      ]
    },
    {
      "cell_type": "markdown",
      "metadata": {
        "id": "6Q4Cum53YAoA"
      },
      "source": [
        "#### Número de casos por região"
      ]
    },
    {
      "cell_type": "code",
      "metadata": {
        "id": "rRlI1ppyX_Pe"
      },
      "source": [
        "# calculando número de casos total por região - 2014 a 2019\n",
        "norte1 = dados_casos_hep_A_uso_selc.query(\"Região == 'Norte'\")[\"Casos por cem mil habitantes\"].sum()\n",
        "sul1 = dados_casos_hep_A_uso_selc.query(\"Região == 'Sul'\")[\"Casos por cem mil habitantes\"].sum()\n",
        "sudeste1 = dados_casos_hep_A_uso_selc.query(\"Região == 'Sudeste'\")[\"Casos por cem mil habitantes\"].sum()\n",
        "centro_oeste1 = dados_casos_hep_A_uso_selc.query(\"Região == 'Centro-Oeste'\")[\"Casos por cem mil habitantes\"].sum()\n",
        "nordeste1 = dados_casos_hep_A_uso_selc.query(\"Região == 'Nordeste'\")[\"Casos por cem mil habitantes\"].sum()"
      ],
      "execution_count": 96,
      "outputs": []
    },
    {
      "cell_type": "code",
      "metadata": {
        "id": "uheoS2ruYYms"
      },
      "source": [
        "# criando um dicionário para associar região e cobertura vacinal\n",
        "dados_casos_hep_A_regiao = {'Região': [\"Norte\", \"Sul\", \"Sudeste\", \"Centro-Oeste\", \"Nordeste\"], 'Casos por cem mil habitantes': [norte1, sul1, sudeste1, centro_oeste1, nordeste1]}"
      ],
      "execution_count": 97,
      "outputs": []
    },
    {
      "cell_type": "code",
      "metadata": {
        "id": "cbY9sPGEbcj2",
        "colab": {
          "base_uri": "https://localhost:8080/",
          "height": 235
        },
        "outputId": "577a4eb6-61fe-44c0-c5d1-41890302e00c"
      },
      "source": [
        "#ordenando os dados pelo 'casos por milhão de habitantes'\n",
        "dados_casos_hep_A_uso_selc = dados_casos_hep_A_uso_selc.sort_values('Casos por cem mil habitantes', ascending = False)\n",
        "dados_casos_hep_A_uso_selc.head()"
      ],
      "execution_count": 98,
      "outputs": [
        {
          "output_type": "execute_result",
          "data": {
            "text/html": [
              "<div>\n",
              "<style scoped>\n",
              "    .dataframe tbody tr th:only-of-type {\n",
              "        vertical-align: middle;\n",
              "    }\n",
              "\n",
              "    .dataframe tbody tr th {\n",
              "        vertical-align: top;\n",
              "    }\n",
              "\n",
              "    .dataframe thead th {\n",
              "        text-align: right;\n",
              "    }\n",
              "</style>\n",
              "<table border=\"1\" class=\"dataframe\">\n",
              "  <thead>\n",
              "    <tr style=\"text-align: right;\">\n",
              "      <th></th>\n",
              "      <th>2014</th>\n",
              "      <th>2015</th>\n",
              "      <th>2016</th>\n",
              "      <th>2017</th>\n",
              "      <th>2018</th>\n",
              "      <th>2019</th>\n",
              "      <th>Região</th>\n",
              "      <th>Total</th>\n",
              "      <th>Habitantes</th>\n",
              "      <th>Casos por cem mil habitantes</th>\n",
              "    </tr>\n",
              "    <tr>\n",
              "      <th>Unidade da Federação</th>\n",
              "      <th></th>\n",
              "      <th></th>\n",
              "      <th></th>\n",
              "      <th></th>\n",
              "      <th></th>\n",
              "      <th></th>\n",
              "      <th></th>\n",
              "      <th></th>\n",
              "      <th></th>\n",
              "      <th></th>\n",
              "    </tr>\n",
              "  </thead>\n",
              "  <tbody>\n",
              "    <tr>\n",
              "      <th>Rio de Janeiro</th>\n",
              "      <td>438</td>\n",
              "      <td>193</td>\n",
              "      <td>41</td>\n",
              "      <td>183</td>\n",
              "      <td>509</td>\n",
              "      <td>99</td>\n",
              "      <td>Sudeste</td>\n",
              "      <td>1463</td>\n",
              "      <td>861773</td>\n",
              "      <td>169.77</td>\n",
              "    </tr>\n",
              "    <tr>\n",
              "      <th>Maranhão</th>\n",
              "      <td>248</td>\n",
              "      <td>128</td>\n",
              "      <td>43</td>\n",
              "      <td>24</td>\n",
              "      <td>23</td>\n",
              "      <td>22</td>\n",
              "      <td>Nordeste</td>\n",
              "      <td>488</td>\n",
              "      <td>631181</td>\n",
              "      <td>77.32</td>\n",
              "    </tr>\n",
              "    <tr>\n",
              "      <th>São Paulo</th>\n",
              "      <td>327</td>\n",
              "      <td>241</td>\n",
              "      <td>155</td>\n",
              "      <td>1121</td>\n",
              "      <td>823</td>\n",
              "      <td>291</td>\n",
              "      <td>Sudeste</td>\n",
              "      <td>2958</td>\n",
              "      <td>4207714</td>\n",
              "      <td>70.30</td>\n",
              "    </tr>\n",
              "    <tr>\n",
              "      <th>Amazonas</th>\n",
              "      <td>940</td>\n",
              "      <td>402</td>\n",
              "      <td>69</td>\n",
              "      <td>56</td>\n",
              "      <td>59</td>\n",
              "      <td>29</td>\n",
              "      <td>Norte</td>\n",
              "      <td>1555</td>\n",
              "      <td>3055149</td>\n",
              "      <td>50.90</td>\n",
              "    </tr>\n",
              "    <tr>\n",
              "      <th>Paraíba</th>\n",
              "      <td>295</td>\n",
              "      <td>61</td>\n",
              "      <td>4</td>\n",
              "      <td>18</td>\n",
              "      <td>6</td>\n",
              "      <td>5</td>\n",
              "      <td>Nordeste</td>\n",
              "      <td>389</td>\n",
              "      <td>894470</td>\n",
              "      <td>43.49</td>\n",
              "    </tr>\n",
              "  </tbody>\n",
              "</table>\n",
              "</div>"
            ],
            "text/plain": [
              "                      2014  2015  ...  Habitantes  Casos por cem mil habitantes\n",
              "Unidade da Federação              ...                                          \n",
              "Rio de Janeiro         438   193  ...      861773                        169.77\n",
              "Maranhão               248   128  ...      631181                         77.32\n",
              "São Paulo              327   241  ...     4207714                         70.30\n",
              "Amazonas               940   402  ...     3055149                         50.90\n",
              "Paraíba                295    61  ...      894470                         43.49\n",
              "\n",
              "[5 rows x 10 columns]"
            ]
          },
          "metadata": {
            "tags": []
          },
          "execution_count": 98
        }
      ]
    },
    {
      "cell_type": "code",
      "metadata": {
        "id": "VCZhhypFYb6v",
        "colab": {
          "base_uri": "https://localhost:8080/",
          "height": 204
        },
        "outputId": "5205384a-f294-44d0-87ec-cb8ed0dc3fa3"
      },
      "source": [
        "# Criando um novo DataFrame com a região e a cobertura vacinal\n",
        "dados_casos_por_regiao = pd.DataFrame(data=dados_casos_hep_A_regiao)\n",
        "dados_casos_por_regiao = dados_casos_por_regiao.sort_values('Casos por cem mil habitantes', ascending = False)\n",
        "dados_casos_por_regiao"
      ],
      "execution_count": 99,
      "outputs": [
        {
          "output_type": "execute_result",
          "data": {
            "text/html": [
              "<div>\n",
              "<style scoped>\n",
              "    .dataframe tbody tr th:only-of-type {\n",
              "        vertical-align: middle;\n",
              "    }\n",
              "\n",
              "    .dataframe tbody tr th {\n",
              "        vertical-align: top;\n",
              "    }\n",
              "\n",
              "    .dataframe thead th {\n",
              "        text-align: right;\n",
              "    }\n",
              "</style>\n",
              "<table border=\"1\" class=\"dataframe\">\n",
              "  <thead>\n",
              "    <tr style=\"text-align: right;\">\n",
              "      <th></th>\n",
              "      <th>Região</th>\n",
              "      <th>Casos por cem mil habitantes</th>\n",
              "    </tr>\n",
              "  </thead>\n",
              "  <tbody>\n",
              "    <tr>\n",
              "      <th>2</th>\n",
              "      <td>Sudeste</td>\n",
              "      <td>259.83</td>\n",
              "    </tr>\n",
              "    <tr>\n",
              "      <th>4</th>\n",
              "      <td>Nordeste</td>\n",
              "      <td>185.87</td>\n",
              "    </tr>\n",
              "    <tr>\n",
              "      <th>0</th>\n",
              "      <td>Norte</td>\n",
              "      <td>103.78</td>\n",
              "    </tr>\n",
              "    <tr>\n",
              "      <th>3</th>\n",
              "      <td>Centro-Oeste</td>\n",
              "      <td>33.76</td>\n",
              "    </tr>\n",
              "    <tr>\n",
              "      <th>1</th>\n",
              "      <td>Sul</td>\n",
              "      <td>13.52</td>\n",
              "    </tr>\n",
              "  </tbody>\n",
              "</table>\n",
              "</div>"
            ],
            "text/plain": [
              "         Região  Casos por cem mil habitantes\n",
              "2       Sudeste                        259.83\n",
              "4      Nordeste                        185.87\n",
              "0         Norte                        103.78\n",
              "3  Centro-Oeste                         33.76\n",
              "1           Sul                         13.52"
            ]
          },
          "metadata": {
            "tags": []
          },
          "execution_count": 99
        }
      ]
    },
    {
      "cell_type": "code",
      "metadata": {
        "id": "xOlEAPL7ZFv1",
        "colab": {
          "base_uri": "https://localhost:8080/",
          "height": 468
        },
        "outputId": "f220f479-d323-41ee-a0c3-b785de739419"
      },
      "source": [
        "#criando a vizualização do número de casos de hepatite A por Região no período de 2014 a 2019\n",
        "\n",
        "plt.figure(figsize=(10, 7))\n",
        "ax = plt.bar(dados_casos_por_regiao[\"Região\"], dados_casos_por_regiao[\"Casos por cem mil habitantes\"], color = \"indianred\")\n",
        "\n",
        "plt.title(\"Número de casos de Hepatite A por cem mil habitantes \\n 2014 a 2019\", fontsize = 16, fontweight = \"bold\") #título\n",
        "#plt.xlabel(\"Região\",fontsize = 14, fontweight = \"bold\") #título eixo x\n",
        "plt.ylabel(\"Casos\",fontsize = 14, fontweight = \"bold\") #título eixo y\n",
        "\n",
        "plt.tick_params(axis=\"x\", labelsize=12) #modifica o tamanho do tick em x\n",
        "plt.tick_params(axis=\"y\", labelsize=12) #modifica o tamanho do tick em y\n",
        "\n",
        "plt.show()"
      ],
      "execution_count": 100,
      "outputs": [
        {
          "output_type": "display_data",
          "data": {
            "image/png": "[encoded data removed]",
            "text/plain": [
              "<Figure size 720x504 with 1 Axes>"
            ]
          },
          "metadata": {
            "tags": [],
            "needs_background": "light"
          }
        }
      ]
    },
    {
      "cell_type": "markdown",
      "metadata": {
        "id": "HEkpaMhxayIR"
      },
      "source": [
        "#### Observações:\n",
        "O gráfico mostra que o Centro-oeste e Sul são as regiões com menor número de casos total. Esse dado parece coerente quando comparado com os dados de cobertura vacinal em que as mesmas regiões apresentam maior cobertura.\n",
        "\n",
        "O Sudeste se destaca como a região com maior número de casos. Sendo assim, é interessante avaliarmos a progressão do número de casos no decorrer dos anos. "
      ]
    },
    {
      "cell_type": "markdown",
      "metadata": {
        "id": "nu88VzAasYwO"
      },
      "source": [
        "##### Região Sudeste"
      ]
    },
    {
      "cell_type": "code",
      "metadata": {
        "id": "SHlT7gc_sYcR"
      },
      "source": [
        "#selecionando apenas os dados da região sudeste\n",
        "dados_sudeste = dados_casos_hep_A_uso_selc.query(\"Região == 'Sudeste'\")"
      ],
      "execution_count": 101,
      "outputs": []
    },
    {
      "cell_type": "code",
      "metadata": {
        "id": "Obe0d5kkoXP-",
        "colab": {
          "base_uri": "https://localhost:8080/",
          "height": 414
        },
        "outputId": "0b2ca1c3-4f12-46f7-afa6-a22e2dac8de4"
      },
      "source": [
        "#gerando a visualização dos dados de número de casos de hepatite A da região Sudeste\n",
        "ax = dados_sudeste[[2014, 2015, 2016, 2017, 2018, 2019]].T.plot(figsize=(10,6), colormap = 'viridis')\n",
        "\n",
        "plt.title(\"Número de casos por Ano\", fontsize = 16) #Título figura\n",
        "plt.xlabel(\"Ano\",fontsize = 14, fontweight = \"bold\") #título eixo x\n",
        "plt.ylabel(\"Casos\",fontsize = 14, fontweight = \"bold\") #título eixo y\n",
        "\n",
        "plt.tick_params(axis=\"x\", labelsize=12) #modifica o tamanho do tick em x\n",
        "plt.tick_params(axis=\"y\", labelsize=12) #modifica o tamanho do tick em y\n",
        "\n",
        "plt.legend(loc='center left', bbox_to_anchor=(1.0, 0.5))\n",
        "\n",
        "plt.show()"
      ],
      "execution_count": 102,
      "outputs": [
        {
          "output_type": "display_data",
          "data": {
            "image/png": "[encoded data removed]",
            "text/plain": [
              "<Figure size 720x432 with 1 Axes>"
            ]
          },
          "metadata": {
            "tags": [],
            "needs_background": "light"
          }
        }
      ]
    },
    {
      "cell_type": "markdown",
      "metadata": {
        "id": "LIKQxHS323Vs"
      },
      "source": [
        "##### Observações\n",
        "\n",
        "Quando observamos apenas os dados dos estados da região Sudeste, observamos que houve um aumento considerável no número de casos de hepatite A nos estados de São Paulo e Rio de Janeiro em 2017 e 2018, motivo pelo qual a região se destaca no número de casos no Brasil[6].\n",
        "\n",
        "A Secretaria Municipal de Saúde de São Paulo atribuiu o aumento dos casos ao sexo oral-anal sem proteção — embora a hepatite A não seja considerada uma infecção sexualmente transmissível, o contato com a região perianal ou com material que contenha resíduos de fezes pode gerar contaminação[6, 7]. \n",
        "\n",
        "No Rio de Janeiro, gestores da saúde, indicaram como causa mais provável a presença do vírus na água, principalmente pela ocorrência em uma região pobre com deficiência no saneamento básico. O laboratório da FioCruz analisou a água em 10 pontos na região do Vidigal e identificou presença do vírus em três locais, levantando o alerta para a população manter cuidados preventivos[7]."
      ]
    },
    {
      "cell_type": "markdown",
      "metadata": {
        "id": "Mnj1zQxS0oAQ"
      },
      "source": [
        "##### Região Nordeste"
      ]
    },
    {
      "cell_type": "code",
      "metadata": {
        "id": "YXgKSh5Zu3si"
      },
      "source": [
        "#selecionando apenas os dados da região nordeste\n",
        "dados_nordeste = dados_casos_hep_A_uso_selc.query(\"Região == 'Nordeste'\")"
      ],
      "execution_count": 103,
      "outputs": []
    },
    {
      "cell_type": "code",
      "metadata": {
        "id": "eVgFMREAvJik",
        "colab": {
          "base_uri": "https://localhost:8080/",
          "height": 414
        },
        "outputId": "1fc95489-5c7d-4b42-ac79-9c1785329f7e"
      },
      "source": [
        "#gerando a visualização dos dados de número de casos de hepatite A da região Nordeste\n",
        "ax = dados_nordeste[[2014, 2015, 2016, 2017, 2018, 2019]].T.plot(figsize=(10,6), colormap = 'viridis', )\n",
        "\n",
        "plt.title(\"Número de casos por Ano\", fontsize = 16) #Título figura\n",
        "plt.xlabel(\"Ano\",fontsize = 14, fontweight = \"bold\") #título eixo x\n",
        "plt.ylabel(\"Casos\",fontsize = 14, fontweight = \"bold\") #título eixo y\n",
        "\n",
        "plt.tick_params(axis=\"x\", labelsize=12) #modifica o tamanho do tick em x\n",
        "plt.tick_params(axis=\"y\", labelsize=12) #modifica o tamanho do tick em y\n",
        "\n",
        "plt.legend(loc='center left', bbox_to_anchor=(1.0, 0.5))\n",
        "\n",
        "plt.show()"
      ],
      "execution_count": 104,
      "outputs": [
        {
          "output_type": "display_data",
          "data": {
            "image/png": "[encoded data removed]",
            "text/plain": [
              "<Figure size 720x432 with 1 Axes>"
            ]
          },
          "metadata": {
            "tags": [],
            "needs_background": "light"
          }
        }
      ]
    },
    {
      "cell_type": "markdown",
      "metadata": {
        "id": "MApBUXry04Cr"
      },
      "source": [
        "##### Observações:\n",
        "O Nordeste é a segunda região em maior número de casos e a segunda com menor taxa de cobertura vacinal."
      ]
    },
    {
      "cell_type": "markdown",
      "metadata": {
        "id": "9I9wNVYERTkV"
      },
      "source": [
        "### Nº de Casos x Cobertura vacinal"
      ]
    },
    {
      "cell_type": "code",
      "metadata": {
        "id": "Nb13fdaitsjg",
        "colab": {
          "base_uri": "https://localhost:8080/",
          "height": 204
        },
        "outputId": "75931551-8010-410c-b9c4-31f03a62970d"
      },
      "source": [
        "#ordenando os dados de cobertura vacinal pela 'Região'\n",
        "dados_cv_por_regiao = dados_cv_por_regiao.sort_values('Região', ascending = True)\n",
        "dados_cv_por_regiao"
      ],
      "execution_count": 105,
      "outputs": [
        {
          "output_type": "execute_result",
          "data": {
            "text/html": [
              "<div>\n",
              "<style scoped>\n",
              "    .dataframe tbody tr th:only-of-type {\n",
              "        vertical-align: middle;\n",
              "    }\n",
              "\n",
              "    .dataframe tbody tr th {\n",
              "        vertical-align: top;\n",
              "    }\n",
              "\n",
              "    .dataframe thead th {\n",
              "        text-align: right;\n",
              "    }\n",
              "</style>\n",
              "<table border=\"1\" class=\"dataframe\">\n",
              "  <thead>\n",
              "    <tr style=\"text-align: right;\">\n",
              "      <th></th>\n",
              "      <th>Região</th>\n",
              "      <th>Cobertura Vacinal</th>\n",
              "    </tr>\n",
              "  </thead>\n",
              "  <tbody>\n",
              "    <tr>\n",
              "      <th>3</th>\n",
              "      <td>Centro-Oeste</td>\n",
              "      <td>79.76</td>\n",
              "    </tr>\n",
              "    <tr>\n",
              "      <th>4</th>\n",
              "      <td>Nordeste</td>\n",
              "      <td>71.32</td>\n",
              "    </tr>\n",
              "    <tr>\n",
              "      <th>0</th>\n",
              "      <td>Norte</td>\n",
              "      <td>68.89</td>\n",
              "    </tr>\n",
              "    <tr>\n",
              "      <th>2</th>\n",
              "      <td>Sudeste</td>\n",
              "      <td>77.37</td>\n",
              "    </tr>\n",
              "    <tr>\n",
              "      <th>1</th>\n",
              "      <td>Sul</td>\n",
              "      <td>79.54</td>\n",
              "    </tr>\n",
              "  </tbody>\n",
              "</table>\n",
              "</div>"
            ],
            "text/plain": [
              "         Região  Cobertura Vacinal\n",
              "3  Centro-Oeste              79.76\n",
              "4      Nordeste              71.32\n",
              "0         Norte              68.89\n",
              "2       Sudeste              77.37\n",
              "1           Sul              79.54"
            ]
          },
          "metadata": {
            "tags": []
          },
          "execution_count": 105
        }
      ]
    },
    {
      "cell_type": "code",
      "metadata": {
        "id": "gBmja2QStz-x",
        "colab": {
          "base_uri": "https://localhost:8080/",
          "height": 204
        },
        "outputId": "26fbf66b-f1da-46b1-9dfe-cc0180276d35"
      },
      "source": [
        "#ordenando os dados de nº de casos pela 'Região'\n",
        "dados_casos_por_regiao = dados_casos_por_regiao.sort_values('Região', ascending = True)\n",
        "dados_casos_por_regiao"
      ],
      "execution_count": 106,
      "outputs": [
        {
          "output_type": "execute_result",
          "data": {
            "text/html": [
              "<div>\n",
              "<style scoped>\n",
              "    .dataframe tbody tr th:only-of-type {\n",
              "        vertical-align: middle;\n",
              "    }\n",
              "\n",
              "    .dataframe tbody tr th {\n",
              "        vertical-align: top;\n",
              "    }\n",
              "\n",
              "    .dataframe thead th {\n",
              "        text-align: right;\n",
              "    }\n",
              "</style>\n",
              "<table border=\"1\" class=\"dataframe\">\n",
              "  <thead>\n",
              "    <tr style=\"text-align: right;\">\n",
              "      <th></th>\n",
              "      <th>Região</th>\n",
              "      <th>Casos por cem mil habitantes</th>\n",
              "    </tr>\n",
              "  </thead>\n",
              "  <tbody>\n",
              "    <tr>\n",
              "      <th>3</th>\n",
              "      <td>Centro-Oeste</td>\n",
              "      <td>33.76</td>\n",
              "    </tr>\n",
              "    <tr>\n",
              "      <th>4</th>\n",
              "      <td>Nordeste</td>\n",
              "      <td>185.87</td>\n",
              "    </tr>\n",
              "    <tr>\n",
              "      <th>0</th>\n",
              "      <td>Norte</td>\n",
              "      <td>103.78</td>\n",
              "    </tr>\n",
              "    <tr>\n",
              "      <th>2</th>\n",
              "      <td>Sudeste</td>\n",
              "      <td>259.83</td>\n",
              "    </tr>\n",
              "    <tr>\n",
              "      <th>1</th>\n",
              "      <td>Sul</td>\n",
              "      <td>13.52</td>\n",
              "    </tr>\n",
              "  </tbody>\n",
              "</table>\n",
              "</div>"
            ],
            "text/plain": [
              "         Região  Casos por cem mil habitantes\n",
              "3  Centro-Oeste                         33.76\n",
              "4      Nordeste                        185.87\n",
              "0         Norte                        103.78\n",
              "2       Sudeste                        259.83\n",
              "1           Sul                         13.52"
            ]
          },
          "metadata": {
            "tags": []
          },
          "execution_count": 106
        }
      ]
    },
    {
      "cell_type": "code",
      "metadata": {
        "id": "9Q3OHjv-us3w",
        "colab": {
          "base_uri": "https://localhost:8080/",
          "height": 204
        },
        "outputId": "52ce1a94-0e43-4907-c9f3-e99c050fb2d0"
      },
      "source": [
        "#criando novo dataset com o nº de casos e a cobertura vacinal por região\n",
        "dados_cv_casos = dados_cv_por_regiao\n",
        "dados_cv_casos"
      ],
      "execution_count": 107,
      "outputs": [
        {
          "output_type": "execute_result",
          "data": {
            "text/html": [
              "<div>\n",
              "<style scoped>\n",
              "    .dataframe tbody tr th:only-of-type {\n",
              "        vertical-align: middle;\n",
              "    }\n",
              "\n",
              "    .dataframe tbody tr th {\n",
              "        vertical-align: top;\n",
              "    }\n",
              "\n",
              "    .dataframe thead th {\n",
              "        text-align: right;\n",
              "    }\n",
              "</style>\n",
              "<table border=\"1\" class=\"dataframe\">\n",
              "  <thead>\n",
              "    <tr style=\"text-align: right;\">\n",
              "      <th></th>\n",
              "      <th>Região</th>\n",
              "      <th>Cobertura Vacinal</th>\n",
              "    </tr>\n",
              "  </thead>\n",
              "  <tbody>\n",
              "    <tr>\n",
              "      <th>3</th>\n",
              "      <td>Centro-Oeste</td>\n",
              "      <td>79.76</td>\n",
              "    </tr>\n",
              "    <tr>\n",
              "      <th>4</th>\n",
              "      <td>Nordeste</td>\n",
              "      <td>71.32</td>\n",
              "    </tr>\n",
              "    <tr>\n",
              "      <th>0</th>\n",
              "      <td>Norte</td>\n",
              "      <td>68.89</td>\n",
              "    </tr>\n",
              "    <tr>\n",
              "      <th>2</th>\n",
              "      <td>Sudeste</td>\n",
              "      <td>77.37</td>\n",
              "    </tr>\n",
              "    <tr>\n",
              "      <th>1</th>\n",
              "      <td>Sul</td>\n",
              "      <td>79.54</td>\n",
              "    </tr>\n",
              "  </tbody>\n",
              "</table>\n",
              "</div>"
            ],
            "text/plain": [
              "         Região  Cobertura Vacinal\n",
              "3  Centro-Oeste              79.76\n",
              "4      Nordeste              71.32\n",
              "0         Norte              68.89\n",
              "2       Sudeste              77.37\n",
              "1           Sul              79.54"
            ]
          },
          "metadata": {
            "tags": []
          },
          "execution_count": 107
        }
      ]
    },
    {
      "cell_type": "code",
      "metadata": {
        "id": "mlo_W-7HwWTZ",
        "colab": {
          "base_uri": "https://localhost:8080/",
          "height": 204
        },
        "outputId": "bbb48afe-a492-43f3-8a43-08888ae07c52"
      },
      "source": [
        "#criando a coluna de 'Casos por cel mil habitantes'\n",
        "dados_cv_casos['Casos por cem mil habitantes'] = dados_casos_por_regiao[\"Casos por cem mil habitantes\"]\n",
        "dados_cv_casos"
      ],
      "execution_count": 108,
      "outputs": [
        {
          "output_type": "execute_result",
          "data": {
            "text/html": [
              "<div>\n",
              "<style scoped>\n",
              "    .dataframe tbody tr th:only-of-type {\n",
              "        vertical-align: middle;\n",
              "    }\n",
              "\n",
              "    .dataframe tbody tr th {\n",
              "        vertical-align: top;\n",
              "    }\n",
              "\n",
              "    .dataframe thead th {\n",
              "        text-align: right;\n",
              "    }\n",
              "</style>\n",
              "<table border=\"1\" class=\"dataframe\">\n",
              "  <thead>\n",
              "    <tr style=\"text-align: right;\">\n",
              "      <th></th>\n",
              "      <th>Região</th>\n",
              "      <th>Cobertura Vacinal</th>\n",
              "      <th>Casos por cem mil habitantes</th>\n",
              "    </tr>\n",
              "  </thead>\n",
              "  <tbody>\n",
              "    <tr>\n",
              "      <th>3</th>\n",
              "      <td>Centro-Oeste</td>\n",
              "      <td>79.76</td>\n",
              "      <td>33.76</td>\n",
              "    </tr>\n",
              "    <tr>\n",
              "      <th>4</th>\n",
              "      <td>Nordeste</td>\n",
              "      <td>71.32</td>\n",
              "      <td>185.87</td>\n",
              "    </tr>\n",
              "    <tr>\n",
              "      <th>0</th>\n",
              "      <td>Norte</td>\n",
              "      <td>68.89</td>\n",
              "      <td>103.78</td>\n",
              "    </tr>\n",
              "    <tr>\n",
              "      <th>2</th>\n",
              "      <td>Sudeste</td>\n",
              "      <td>77.37</td>\n",
              "      <td>259.83</td>\n",
              "    </tr>\n",
              "    <tr>\n",
              "      <th>1</th>\n",
              "      <td>Sul</td>\n",
              "      <td>79.54</td>\n",
              "      <td>13.52</td>\n",
              "    </tr>\n",
              "  </tbody>\n",
              "</table>\n",
              "</div>"
            ],
            "text/plain": [
              "         Região  Cobertura Vacinal  Casos por cem mil habitantes\n",
              "3  Centro-Oeste              79.76                         33.76\n",
              "4      Nordeste              71.32                        185.87\n",
              "0         Norte              68.89                        103.78\n",
              "2       Sudeste              77.37                        259.83\n",
              "1           Sul              79.54                         13.52"
            ]
          },
          "metadata": {
            "tags": []
          },
          "execution_count": 108
        }
      ]
    },
    {
      "cell_type": "code",
      "metadata": {
        "id": "ODaUMaH_wpYS",
        "colab": {
          "base_uri": "https://localhost:8080/",
          "height": 204
        },
        "outputId": "83b626bb-8fed-4e4f-d070-75a8d1eb6cf1"
      },
      "source": [
        "#ordenando os dados pelos valores de nº de casos\n",
        "dados_cv_casos.sort_values('Casos por cem mil habitantes', ascending = False)"
      ],
      "execution_count": 109,
      "outputs": [
        {
          "output_type": "execute_result",
          "data": {
            "text/html": [
              "<div>\n",
              "<style scoped>\n",
              "    .dataframe tbody tr th:only-of-type {\n",
              "        vertical-align: middle;\n",
              "    }\n",
              "\n",
              "    .dataframe tbody tr th {\n",
              "        vertical-align: top;\n",
              "    }\n",
              "\n",
              "    .dataframe thead th {\n",
              "        text-align: right;\n",
              "    }\n",
              "</style>\n",
              "<table border=\"1\" class=\"dataframe\">\n",
              "  <thead>\n",
              "    <tr style=\"text-align: right;\">\n",
              "      <th></th>\n",
              "      <th>Região</th>\n",
              "      <th>Cobertura Vacinal</th>\n",
              "      <th>Casos por cem mil habitantes</th>\n",
              "    </tr>\n",
              "  </thead>\n",
              "  <tbody>\n",
              "    <tr>\n",
              "      <th>2</th>\n",
              "      <td>Sudeste</td>\n",
              "      <td>77.37</td>\n",
              "      <td>259.83</td>\n",
              "    </tr>\n",
              "    <tr>\n",
              "      <th>4</th>\n",
              "      <td>Nordeste</td>\n",
              "      <td>71.32</td>\n",
              "      <td>185.87</td>\n",
              "    </tr>\n",
              "    <tr>\n",
              "      <th>0</th>\n",
              "      <td>Norte</td>\n",
              "      <td>68.89</td>\n",
              "      <td>103.78</td>\n",
              "    </tr>\n",
              "    <tr>\n",
              "      <th>3</th>\n",
              "      <td>Centro-Oeste</td>\n",
              "      <td>79.76</td>\n",
              "      <td>33.76</td>\n",
              "    </tr>\n",
              "    <tr>\n",
              "      <th>1</th>\n",
              "      <td>Sul</td>\n",
              "      <td>79.54</td>\n",
              "      <td>13.52</td>\n",
              "    </tr>\n",
              "  </tbody>\n",
              "</table>\n",
              "</div>"
            ],
            "text/plain": [
              "         Região  Cobertura Vacinal  Casos por cem mil habitantes\n",
              "2       Sudeste              77.37                        259.83\n",
              "4      Nordeste              71.32                        185.87\n",
              "0         Norte              68.89                        103.78\n",
              "3  Centro-Oeste              79.76                         33.76\n",
              "1           Sul              79.54                         13.52"
            ]
          },
          "metadata": {
            "tags": []
          },
          "execution_count": 109
        }
      ]
    },
    {
      "cell_type": "code",
      "metadata": {
        "id": "KWYR_xAtw99e",
        "colab": {
          "base_uri": "https://localhost:8080/",
          "height": 522
        },
        "outputId": "2beeaeee-e41f-459f-a369-2b22c6c65aa3"
      },
      "source": [
        "#vizualizando os dados de cobertura vacinal versus número de casos\n",
        "plt.figure(figsize=(8,8))\n",
        "sns.scatterplot(data=dados_cv_casos, x=\"Cobertura Vacinal\", y=\"Casos por cem mil habitantes\", \n",
        "                hue = \"Região\", size=\"Cobertura Vacinal\", sizes=(50, 150), palette=\"rocket\")\n",
        "\n",
        "plt.title(\"Cobertura Vacinal versus Número de Casos\", fontsize = 16) #Título figura\n",
        "plt.xlabel(\"Cobertura Vacinal\",fontsize = 14, fontweight = \"bold\") #título eixo x\n",
        "plt.ylabel(\"Casos por cem mil habitantes\",fontsize = 14, fontweight = \"bold\") #título eixo y\n",
        "\n",
        "plt.tick_params(axis=\"x\", labelsize=12) #modifica o tamanho do tick em x\n",
        "plt.tick_params(axis=\"y\", labelsize=12) #modifica o tamanho do tick em y\n",
        "\n",
        "plt.legend(loc='center left', bbox_to_anchor=(1.0, 0.5))\n",
        "\n",
        "plt.xlim(0,85)\n",
        "\n",
        "plt.show()"
      ],
      "execution_count": 110,
      "outputs": [
        {
          "output_type": "display_data",
          "data": {
            "image/png": "[encoded data removed]",
            "text/plain": [
              "<Figure size 576x576 with 1 Axes>"
            ]
          },
          "metadata": {
            "tags": [],
            "needs_background": "light"
          }
        }
      ]
    },
    {
      "cell_type": "markdown",
      "metadata": {
        "id": "wiw8Ikef0BMr"
      },
      "source": [
        "### Observações e Conclusões\n",
        "\n",
        "O grafico mostra que apesar de haver uma certa relação entre cobertura vacinal e número de casos, ela não segue uma proporcionalidade. Como visto anteriormente, a região sudeste apesar de alta taxa de cobertura vacinal apresentou altos números de casos devido a problemas de saúde sexual e saneamento.\n",
        "\n",
        "Nas regiões Centro-oeste e Sul, a cobertura vacinal, apesar de abaixo do recomendado, tem se mostrado eficiente no controle da doença. Sendo assim, o número de casos nessas regiões é baixo.\n",
        "\n",
        "Na região Nordeste, o número de casos é alto, apesar de ter uma taxa de cobertura vacinal semelhante a da região centro-oeste. Esse dado indica que existem fatores que colaboram para o aumento do número de casos e um destes pode ser a distribuição desigual de imunos pelo país [7\n",
        "].\n",
        "\n",
        "Em todos os casos, as baixas taxas de cobertura vacinal estão associadas a diversos fatores como a falsa sensação de segurança contra doenças que diminuíram sua incidência, a distribuição desigual de imunos pelo país e as falhas de comunicação dos órgãos de saúde com a população. A crise do Sistema Único de Saúde (SUS) também tem sido apontado como um dos fatores."
      ]
    },
    {
      "cell_type": "markdown",
      "metadata": {
        "id": "yx0dHpk5_aDd"
      },
      "source": [
        "\n",
        "\n",
        "---\n",
        "\n",
        "\n",
        "\n"
      ]
    },
    {
      "cell_type": "markdown",
      "metadata": {
        "id": "8QHQnUwh_cVz"
      },
      "source": [
        "## Referências\n",
        "\n",
        "[1] Revista Radis aborda queda da cobertura vacinal no Brasil. Disponível em: <https://portal.fiocruz.br/noticia/revista-radis-aborda-queda-da-cobertura-vacinal-no-brasil> Acesso em: 13/01/2021\n",
        "\n",
        "[2]Em queda há 5 anos, coberturas vacinais preocupam Ministério da Saúde. Disponível em: <https://agenciabrasil.ebc.com.br/saude/noticia/2020-10/em-queda-ha-5-anos-coberturas-vacinais-preocupam-ministerio-da-saude#:~:text=Para%20ambas%2C%20a%20meta%20%C3%A9,%2C%20a%2068%2C46%25> Acesso em: 13/02/2021.\n",
        "\n",
        "[3] SUS passa a oferecer vacina contra hepatite A para crianças. Disponível em: <http://www.blog.saude.gov.br/index.php/570-destaques/34211-sus-passa-a-oferecer-vacina-contra-hepatite-a-para-criancas> Acesso em:10/02/2021\n",
        "\n",
        "[4] Capital tem aumento de 960% de casos de Hepatite A. Disponível em: <https://g1.globo.com/sp/sao-paulo/noticia/capital-tem-aumento-de-960-de-casos-de-hepatite-a.ghtml> Acesso em: 19/02/2021\n",
        "\n",
        "[5] Casos de hepatite A crescem 73% no Brasil puxados por alta em SP. Disponível em: <https://g1.globo.com/bemestar/noticia/casos-de-hepatite-a-crescem-73-no-brasil-puxados-por-alta-em-sp.ghtml> Acesso em: 19/02/2021\n",
        "\n",
        "[6] Novos surtos em São Paulo e no Rio revertem uma década de queda nos casos de hepatite A. Disponível em: <https://www.bbc.com/portuguese/geral-42629636#:~:text=Em%202017%2C%20somente%20a%20cidade,anterior%2C%20houve%20apenas%20dez%20registros> Acesso em: 19/02/2021.\n",
        "\n",
        "[7] Hepatite A: Crescem os riscos de contaminação. Disponível em: <https://radis.ensp.fiocruz.br/index.php/home/noticias/hepatite-a-crescem-os-riscos-de-contaminacao> Acesso em: 19/02/2021\n",
        "\n",
        "\n",
        "\n",
        "\n"
      ]
    }
  ]
}